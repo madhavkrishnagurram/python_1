{
 "cells": [
  {
   "cell_type": "code",
   "execution_count": 2,
   "metadata": {},
   "outputs": [
    {
     "name": "stdout",
     "output_type": "stream",
     "text": [
      "helloworld\n"
     ]
    }
   ],
   "source": [
    "\n",
    "\n",
    "print(\"helloworld\")"
   ]
  },
  {
   "cell_type": "code",
   "execution_count": 7,
   "metadata": {},
   "outputs": [
    {
     "data": {
      "text/plain": [
       "(180, 120, 250)"
      ]
     },
     "execution_count": 7,
     "metadata": {},
     "output_type": "execute_result"
    }
   ],
   "source": [
    "a,b,c=180,120,250\n",
    "a,b,c"
   ]
  },
  {
   "cell_type": "code",
   "execution_count": 8,
   "metadata": {},
   "outputs": [
    {
     "data": {
      "text/plain": [
       "set"
      ]
     },
     "execution_count": 8,
     "metadata": {},
     "output_type": "execute_result"
    }
   ],
   "source": [
    "a={10,20}\n",
    "type(a)"
   ]
  },
  {
   "cell_type": "code",
   "execution_count": 17,
   "metadata": {},
   "outputs": [
    {
     "data": {
      "text/plain": [
       "2098556205344"
      ]
     },
     "execution_count": 17,
     "metadata": {},
     "output_type": "execute_result"
    }
   ],
   "source": [
    "a={10,20}\n",
    "id(a)\n"
   ]
  },
  {
   "cell_type": "code",
   "execution_count": 18,
   "metadata": {},
   "outputs": [
    {
     "data": {
      "text/plain": [
       "2098556206464"
      ]
     },
     "execution_count": 18,
     "metadata": {},
     "output_type": "execute_result"
    }
   ],
   "source": [
    "id({10,20})"
   ]
  },
  {
   "cell_type": "code",
   "execution_count": 23,
   "metadata": {},
   "outputs": [
    {
     "name": "stdout",
     "output_type": "stream",
     "text": [
      "madhav\n",
      "26\n",
      "madhavgurram441@gmail.com\n",
      "5.5\n",
      "9515630073\n"
     ]
    }
   ],
   "source": [
    "name=\"madhav\"\n",
    "age=26\n",
    "phone=9515630073\n",
    "email=\"madhavgurram441@gmail.com\"\n",
    "height=5.5\n",
    "pancard=True\n",
    "print(name)\n",
    "print(age)\n",
    "print(email)\n",
    "print(height)\n",
    "print(phone)"
   ]
  },
  {
   "cell_type": "code",
   "execution_count": 24,
   "metadata": {},
   "outputs": [
    {
     "name": "stdout",
     "output_type": "stream",
     "text": [
      "madhav 26 5.5 9515630073 True\n"
     ]
    }
   ],
   "source": [
    "print(name,age,height,phone,pancard)"
   ]
  },
  {
   "cell_type": "code",
   "execution_count": 29,
   "metadata": {},
   "outputs": [
    {
     "data": {
      "text/plain": [
       "'madhavgurram441@gmail.com'"
      ]
     },
     "execution_count": 29,
     "metadata": {},
     "output_type": "execute_result"
    }
   ],
   "source": [
    "madhav=['madhav','9515630073','madhavgurram441@gmail.com','5.5']\n",
    "madhav[-1]\n",
    "madhav[3]\n",
    "madhav[2]"
   ]
  },
  {
   "cell_type": "code",
   "execution_count": 30,
   "metadata": {},
   "outputs": [
    {
     "data": {
      "text/plain": [
       "'9515630073'"
      ]
     },
     "execution_count": 30,
     "metadata": {},
     "output_type": "execute_result"
    }
   ],
   "source": [
    "madhav[1]"
   ]
  },
  {
   "cell_type": "code",
   "execution_count": 31,
   "metadata": {},
   "outputs": [
    {
     "data": {
      "text/plain": [
       "'madhav'"
      ]
     },
     "execution_count": 31,
     "metadata": {},
     "output_type": "execute_result"
    }
   ],
   "source": [
    "madhav[0]"
   ]
  },
  {
   "cell_type": "code",
   "execution_count": 43,
   "metadata": {},
   "outputs": [
    {
     "data": {
      "text/plain": [
       "'bye'"
      ]
     },
     "execution_count": 43,
     "metadata": {},
     "output_type": "execute_result"
    }
   ],
   "source": [
    "x='hail'\n",
    "y='bye'\n",
    "temp=x\n",
    "x=y\n",
    "x"
   ]
  },
  {
   "cell_type": "code",
   "execution_count": 44,
   "metadata": {},
   "outputs": [
    {
     "data": {
      "text/plain": [
       "'bye'"
      ]
     },
     "execution_count": 44,
     "metadata": {},
     "output_type": "execute_result"
    }
   ],
   "source": [
    "y"
   ]
  },
  {
   "cell_type": "code",
   "execution_count": 1,
   "metadata": {},
   "outputs": [
    {
     "name": "stdout",
     "output_type": "stream",
     "text": [
      "[10, 20, 30, 40]\n"
     ]
    }
   ],
   "source": [
    "x=[10,20]\n",
    "y=[30,40]\n",
    "c=x+y\n",
    "print(c)"
   ]
  },
  {
   "cell_type": "code",
   "execution_count": 2,
   "metadata": {},
   "outputs": [
    {
     "name": "stdout",
     "output_type": "stream",
     "text": [
      "qspiders\n",
      "[10, 20]\n"
     ]
    }
   ],
   "source": [
    "#10. WAS to initialize a value and print the value, after print the value then reinitialize the new value to the existing variable and display the value.\n",
    "a={'a':'qspiders'}\n",
    "print(a['a'])\n",
    "a=[10,20]\n",
    "print(a)"
   ]
  },
  {
   "cell_type": "code",
   "execution_count": 3,
   "metadata": {},
   "outputs": [
    {
     "name": "stdout",
     "output_type": "stream",
     "text": [
      "['1', '5', '0']\n"
     ]
    }
   ],
   "source": [
    "#11. WAS to convert single value to multi value datatype.\n",
    "a=150\n",
    "print(list(str(a)))"
   ]
  },
  {
   "cell_type": "code",
   "execution_count": 4,
   "metadata": {},
   "outputs": [
    {
     "name": "stdout",
     "output_type": "stream",
     "text": [
      "helloworld\n",
      "[10, 20, 30, 'h', 'a', 'i']\n",
      "[100, 200, 300, 400, 500]\n",
      "[1, 2, 3, 'a', 'b']\n",
      "['a', 'b', 'c', 'd', 'e']\n"
     ]
    }
   ],
   "source": [
    "#12. WAS to concat the two multi value data types(str,list,tuple,set,dict).\n",
    "#(a)concat 2 strings\n",
    "a='hello'\n",
    "a+='world'\n",
    "print(a)\n",
    "#(b) concat list with string\n",
    "b=[10,20,30]\n",
    "b+='hai'\n",
    "print(b)\n",
    "#(c) list with tuple\n",
    "c=[100,200,300]\n",
    "c+=(400,500)\n",
    "print(c)\n",
    "#(d) tuple with list is not possible directly. indirectly it is possible i.e; by using typecasting\n",
    "\n",
    "#(e) list with dict\n",
    "e=[1,2,3]\n",
    "e+={'a':4,'b':5}\n",
    "print(e)\n",
    "#(f) list with set\n",
    "f=['a','b','c']\n",
    "f+={'d','e'}\n",
    "print(f)"
   ]
  },
  {
   "cell_type": "code",
   "execution_count": 5,
   "metadata": {},
   "outputs": [
    {
     "name": "stdout",
     "output_type": "stream",
     "text": [
      "10\n",
      "3\n"
     ]
    }
   ],
   "source": [
    "#13. WAS to check the length of the collection.\n",
    "a='helloworld'\n",
    "print(len(a))\n",
    "b=(10,20,30)\n",
    "print(len(b))"
   ]
  },
  {
   "cell_type": "code",
   "execution_count": 6,
   "metadata": {},
   "outputs": [
    {
     "name": "stdout",
     "output_type": "stream",
     "text": [
      "30\n",
      "l\n"
     ]
    }
   ],
   "source": [
    "#14. WAS to check find out the middle value of given collection.\n",
    "a=[10,20,30,40,50]\n",
    "print(a[len(a)//2])\n",
    "b='hello'\n",
    "print(b[len(b)//2])"
   ]
  },
  {
   "cell_type": "code",
   "execution_count": 33,
   "metadata": {},
   "outputs": [
    {
     "name": "stdout",
     "output_type": "stream",
     "text": [
      "helloworld\n"
     ]
    }
   ],
   "source": [
    "#15. WAS to concat the new string into the strarting of given string.\n",
    "a='world'\n",
    "a='hello'+a\n",
    "print(a)\n",
    "\n"
   ]
  },
  {
   "cell_type": "code",
   "execution_count": 7,
   "metadata": {},
   "outputs": [
    {
     "name": "stdout",
     "output_type": "stream",
     "text": [
      "helloworld\n"
     ]
    }
   ],
   "source": [
    "#16. WAS to concat the new string into the ending of the given string.\n",
    "a='hello'\n",
    "a+='world'\n",
    "print(a)"
   ]
  },
  {
   "cell_type": "code",
   "execution_count": 8,
   "metadata": {},
   "outputs": [
    {
     "name": "stdout",
     "output_type": "stream",
     "text": [
      "hey how r u\n",
      "[1, 2, 3, 10, 20, 4, 5, 6]\n"
     ]
    }
   ],
   "source": [
    "#17. WAS to concat the new string into the middle of the given string.\n",
    "a='hey r u'\n",
    "a=a[0:len(a)//2]+' how'+a[len(a)//2:]\n",
    "print(a)\n",
    "\n",
    "b=[1,2,3,4,5,6]\n",
    "b=b[0:len(b)//2]+[10,20]+b[len(b)//2:]\n",
    "print(b)"
   ]
  },
  {
   "cell_type": "code",
   "execution_count": 9,
   "metadata": {},
   "outputs": [
    {
     "name": "stdout",
     "output_type": "stream",
     "text": [
      "pysplders\n"
     ]
    }
   ],
   "source": [
    "#18. WAS to modify the new character into the middle of the given string.\n",
    "a='pyspiders'\n",
    "a=a[0:len(a)//2]+'l'+a[len(a)//2+1:]\n",
    "print(a)"
   ]
  },
  {
   "cell_type": "code",
   "execution_count": 10,
   "metadata": {},
   "outputs": [
    {
     "name": "stdout",
     "output_type": "stream",
     "text": [
      "pySPIders\n"
     ]
    }
   ],
   "source": [
    "#19. WAS to modify the sequence of characters in given string.\n",
    "a='pyspiders'\n",
    "a=a[0:2]+'SPI'+a[5:]\n",
    "print(a)"
   ]
  },
  {
   "cell_type": "code",
   "execution_count": 11,
   "metadata": {},
   "outputs": [
    {
     "name": "stdout",
     "output_type": "stream",
     "text": [
      "helloWorld\n"
     ]
    }
   ],
   "source": [
    "#20. WAS to replace the old character into the new character of the given string.\n",
    "a='helloworld'\n",
    "a=a[0:5]+'W'+a[6:]\n",
    "print(a)"
   ]
  },
  {
   "cell_type": "code",
   "execution_count": 12,
   "metadata": {},
   "outputs": [
    {
     "name": "stdout",
     "output_type": "stream",
     "text": [
      "pyspders\n"
     ]
    }
   ],
   "source": [
    "#21. WAS to delete the specific character in the given string.\n",
    "a='pyspiders'\n",
    "a=a[0:4]+a[5:]\n",
    "print(a)"
   ]
  },
  {
   "cell_type": "code",
   "execution_count": 13,
   "metadata": {},
   "outputs": [
    {
     "name": "stdout",
     "output_type": "stream",
     "text": [
      "pyspiders qspiders\n"
     ]
    }
   ],
   "source": [
    "#22. WAS to concat the new string into the specific position of the given string.\n",
    "a='pyspidersders'\n",
    "a=a[0:9]+' qspi'+a[9:]\n",
    "print(a)"
   ]
  },
  {
   "cell_type": "code",
   "execution_count": 14,
   "metadata": {},
   "outputs": [
    {
     "name": "stdout",
     "output_type": "stream",
     "text": [
      "how you\n"
     ]
    }
   ],
   "source": [
    "#23. WAS to delete the sequence of characters in the given string.\n",
    "a='how are you'\n",
    "a=a[0:4]+a[8:]\n",
    "print(a)"
   ]
  },
  {
   "cell_type": "code",
   "execution_count": 15,
   "metadata": {},
   "outputs": [
    {
     "name": "stdout",
     "output_type": "stream",
     "text": [
      "[10, 20, 30, 40, 50]\n"
     ]
    }
   ],
   "source": [
    "#24. WAS to concat the new value into the starting of the given list.\n",
    "a=[30,40,50]\n",
    "a[0:0]=[10,20]\n",
    "print(a)"
   ]
  },
  {
   "cell_type": "code",
   "execution_count": 16,
   "metadata": {},
   "outputs": [
    {
     "name": "stdout",
     "output_type": "stream",
     "text": [
      "[10, 20, 'hai', 'how', 'are', 'you', 40]\n",
      "[10, 20, 'hai', 'how', 'are', 'you', 40]\n"
     ]
    }
   ],
   "source": [
    "#25. WAS to concat the new value into the ending of the given list.\n",
    "a=[10,20,'hai']\n",
    "a+=['how','are','you',40]\n",
    "print(a)\n",
    "\n",
    "#(OR)\n",
    "\n",
    "b=[10,20,'hai']\n",
    "b[3:3]=['how','are','you',40]\n",
    "print(b)         "
   ]
  },
  {
   "cell_type": "code",
   "execution_count": 17,
   "metadata": {},
   "outputs": [
    {
     "name": "stdout",
     "output_type": "stream",
     "text": [
      "[10, 20, 'hello', 'how', 'are', 'you']\n"
     ]
    }
   ],
   "source": [
    "#26. WAS to concat the new value into the middle of the given list.\n",
    "a=[10,20,'how','are','you']\n",
    "a[len(a)//2:len(a)//2]=['hello']\n",
    "print(a)"
   ]
  },
  {
   "cell_type": "code",
   "execution_count": 18,
   "metadata": {},
   "outputs": [
    {
     "name": "stdout",
     "output_type": "stream",
     "text": [
      "[10, 20, 'a', 'b', 30, 40]\n"
     ]
    }
   ],
   "source": [
    "#27. WAS to concat the new value to the specific position of the given list.\n",
    "a=[10,20,30,40]\n",
    "a[2:2]=['a','b']\n",
    "print(a)"
   ]
  },
  {
   "cell_type": "code",
   "execution_count": 19,
   "metadata": {},
   "outputs": [
    {
     "name": "stdout",
     "output_type": "stream",
     "text": [
      "[10, 20, 'a', 40, 50]\n"
     ]
    }
   ],
   "source": [
    "#28. WAS to modify the new values into the specific position of the given list.\n",
    "a=[10,20,30,40,50]\n",
    "a[2]='a'\n",
    "print(a)"
   ]
  },
  {
   "cell_type": "code",
   "execution_count": 20,
   "metadata": {},
   "outputs": [
    {
     "name": "stdout",
     "output_type": "stream",
     "text": [
      "[0, 2, 3, 4]\n"
     ]
    }
   ],
   "source": [
    "#29. WAS to modify the new value into the starting of the given list.\n",
    "a=[1,2,3,4]\n",
    "a[0]=0\n",
    "print(a)"
   ]
  },
  {
   "cell_type": "code",
   "execution_count": 21,
   "metadata": {},
   "outputs": [
    {
     "name": "stdout",
     "output_type": "stream",
     "text": [
      "['a', 'b', True, None, False]\n"
     ]
    }
   ],
   "source": [
    "#30. WAS to modify new value into the ending of the given list.\n",
    "a=['a','b',True,None,100]\n",
    "a[-1]=False\n",
    "print(a)"
   ]
  },
  {
   "cell_type": "code",
   "execution_count": 22,
   "metadata": {},
   "outputs": [
    {
     "name": "stdout",
     "output_type": "stream",
     "text": [
      "[1, 2, [3, 4], 5, 6]\n"
     ]
    }
   ],
   "source": [
    "#31. WAS to modify the new value into the middle of the given list.\n",
    "a=[1,2,'a',5,6]\n",
    "a[len(a)//2]=[3,4]\n",
    "print(a)"
   ]
  },
  {
   "cell_type": "code",
   "execution_count": 23,
   "metadata": {},
   "outputs": [
    {
     "name": "stdout",
     "output_type": "stream",
     "text": [
      "['a', 'b', 'c', 'd', 'e', 'f']\n"
     ]
    }
   ],
   "source": [
    "#32. WAS to modify the first 4 position values into the given list.\n",
    "a=[1,2,3,4,'e','f']\n",
    "a[0:4]=['a','b','c','d']\n",
    "print(a)"
   ]
  },
  {
   "cell_type": "code",
   "execution_count": 24,
   "metadata": {},
   "outputs": [
    {
     "name": "stdout",
     "output_type": "stream",
     "text": [
      "[1, 'a', 3, 'b', 5, 'c', 7, 'd']\n"
     ]
    }
   ],
   "source": [
    "#33. WAS to modify the sequence of values into a given list.\n",
    "a=[1,2,3,4,5,6,7,8]\n",
    "a[1::2]=['a','b','c','d']\n",
    "print(a)"
   ]
  },
  {
   "cell_type": "code",
   "execution_count": 25,
   "metadata": {},
   "outputs": [
    {
     "name": "stdout",
     "output_type": "stream",
     "text": [
      "[1, 3, 'b', 'c', 7, 'd']\n"
     ]
    }
   ],
   "source": [
    "#34. WAS to delete the values in the specific position of the given list.\n",
    "a=[1, 'a', 3, 'b', 5, 'c', 7, 'd']\n",
    "del a[1]\n",
    "del a[3]\n",
    "print(a)"
   ]
  },
  {
   "cell_type": "code",
   "execution_count": 26,
   "metadata": {},
   "outputs": [
    {
     "name": "stdout",
     "output_type": "stream",
     "text": [
      "[1, 3, 4, 5, 16, 7, 64, 6, 81, 15]\n",
      "[1, 3, 4, 5, 16, 7, 64, 6, 81, 15]\n"
     ]
    }
   ],
   "source": [
    "#34. WAS to modify the values at specific positions in a given list by using updation.\n",
    "a=[1,3,2,5,4,7,8,6,9,15]\n",
    "a[2::2]=[4,16,64,81]\n",
    "print(a)\n",
    "#OR\n",
    "b=[1,3,2,5,4,7,8,6,9,15]\n",
    "b[2]=b[2]**2\n",
    "b[4]=b[4]**2\n",
    "b[6]=b[6]**2\n",
    "b[8]=b[8]**2\n",
    "print(b)"
   ]
  },
  {
   "cell_type": "code",
   "execution_count": 27,
   "metadata": {},
   "outputs": [
    {
     "name": "stdout",
     "output_type": "stream",
     "text": [
      "[1, 2, 3, 4]\n"
     ]
    }
   ],
   "source": [
    "#35. WAS to delete the new value into the ending of list.\n",
    "a=[1,2,3,4,5]\n",
    "del a[-1]\n",
    "print(a)"
   ]
  },
  {
   "cell_type": "code",
   "execution_count": 28,
   "metadata": {},
   "outputs": [
    {
     "name": "stdout",
     "output_type": "stream",
     "text": [
      "[2, 3, 4, 5]\n"
     ]
    }
   ],
   "source": [
    "#36. WAS to delete the new value into the starting of list.\n",
    "a=[1,2,3,4,5]\n",
    "del a[0]\n",
    "print(a)"
   ]
  },
  {
   "cell_type": "code",
   "execution_count": 29,
   "metadata": {},
   "outputs": [
    {
     "name": "stdout",
     "output_type": "stream",
     "text": [
      "[1, 2, 4, 5]\n"
     ]
    }
   ],
   "source": [
    "#37. WAS to delete the values into the middle of list.\n",
    "a=[1,2,3,4,5]\n",
    "del a[len(a)//2]\n",
    "print(a)"
   ]
  },
  {
   "cell_type": "code",
   "execution_count": 30,
   "metadata": {},
   "outputs": [
    {
     "name": "stdout",
     "output_type": "stream",
     "text": [
      "('a', 'b', 1, 2, 3, 4, 5, 6)\n"
     ]
    }
   ],
   "source": [
    "#38. WAS to concat the new value into starting of tuple.\n",
    "a=(1,2,3,4,5,6)\n",
    "a=('a','b')+a\n",
    "print(a)"
   ]
  },
  {
   "cell_type": "code",
   "execution_count": 31,
   "metadata": {},
   "outputs": [
    {
     "name": "stdout",
     "output_type": "stream",
     "text": [
      "(1, 2, 3, 'a', 'b', 4, 5, 6)\n"
     ]
    }
   ],
   "source": [
    "#39. WAS to concat the new value into middle of tuple.\n",
    "a=(1,2,3,4,5,6)\n",
    "a=a[0:len(a)//2]+('a','b')+a[len(a)//2:]\n",
    "print(a)"
   ]
  },
  {
   "cell_type": "code",
   "execution_count": 34,
   "metadata": {},
   "outputs": [
    {
     "name": "stdout",
     "output_type": "stream",
     "text": [
      "(1, 2, 3, 4, 5, 6, 7, 8)\n"
     ]
    }
   ],
   "source": [
    "#40. WAS to concat the new value into ending of tuple.\n",
    "a=(1,2,3,4,5,6)\n",
    "a+=(7,8)\n",
    "print(a)"
   ]
  },
  {
   "cell_type": "code",
   "execution_count": 35,
   "metadata": {},
   "outputs": [
    {
     "name": "stdout",
     "output_type": "stream",
     "text": [
      "(1, 2, 'a', 'b', 5, 6)\n"
     ]
    }
   ],
   "source": [
    "#41. WAS to modify the sequence of values in given tuple.\n",
    "a=(1,2,3,4,5,6)\n",
    "a=a[0:2]+('a','b')+a[4:]\n",
    "print(a)"
   ]
  },
  {
   "cell_type": "code",
   "execution_count": 36,
   "metadata": {},
   "outputs": [
    {
     "name": "stdout",
     "output_type": "stream",
     "text": [
      "(1, 2, 5, 6)\n"
     ]
    }
   ],
   "source": [
    "#42. WAS to delete the sequence of values in given tuple.\n",
    "a=(1,2,3,4,5,6)\n",
    "a=a[0:2]+a[4:]\n",
    "print(a)"
   ]
  },
  {
   "cell_type": "code",
   "execution_count": 37,
   "metadata": {},
   "outputs": [
    {
     "name": "stdout",
     "output_type": "stream",
     "text": [
      "{1, 2, 3, 4, 5, 6, 10, 'A', 20}\n"
     ]
    }
   ],
   "source": [
    "#43. WAS to concat the new value into the set.\n",
    "a={1,2,3,4,5,6}\n",
    "a|={10,20,'A'}\n",
    "print(a)"
   ]
  },
  {
   "cell_type": "code",
   "execution_count": 38,
   "metadata": {},
   "outputs": [
    {
     "name": "stdout",
     "output_type": "stream",
     "text": [
      "{1, 2, 3}\n",
      "{1, 2, 3}\n"
     ]
    }
   ],
   "source": [
    "#44. WAS to delete the specific value into the set.\n",
    "a={1,2,3,4,5,6}\n",
    "a=a-{4,5,6}\n",
    "print(a)\n",
    "#OR\n",
    "a={1,2,3,4,5,6}\n",
    "a-={4,5,6}\n",
    "print(a)"
   ]
  },
  {
   "cell_type": "code",
   "execution_count": 39,
   "metadata": {},
   "outputs": [
    {
     "name": "stdout",
     "output_type": "stream",
     "text": [
      "{'name': 'shahed', 'age': 22, 'place': 'MBNR'}\n",
      "{'name': 'shahed', 'age': 22, 'place': 'MBNR'}\n"
     ]
    }
   ],
   "source": [
    "#45. WAS to concat the new key and value into the given dict.\n",
    "s={'name':'shahed','age':22}\n",
    "s['place']='MBNR'\n",
    "print(s)\n",
    "#OR\n",
    "s={'name':'shahed','age':22}\n",
    "t={'place':'MBNR'}\n",
    "s|=t\n",
    "print(s)"
   ]
  },
  {
   "cell_type": "code",
   "execution_count": 40,
   "metadata": {},
   "outputs": [
    {
     "name": "stdout",
     "output_type": "stream",
     "text": [
      "{'name': 'shahed', 'place': 'MBNR'}\n"
     ]
    }
   ],
   "source": [
    "#46. WAS to delete the specific key and value in the given dict.\n",
    "a={'name': 'shahed', 'age': 22, 'place': 'MBNR'}\n",
    "del a['age']\n",
    "print(a)"
   ]
  },
  {
   "cell_type": "code",
   "execution_count": 41,
   "metadata": {},
   "outputs": [
    {
     "name": "stdout",
     "output_type": "stream",
     "text": [
      "{'name': 'shaik shahed', 'age': 22, 'place': 'MBNR'}\n",
      "{'name': 'shaik shahed', 'age': 22, 'place': 'MBNR'}\n"
     ]
    }
   ],
   "source": [
    "#47. WAS to modify the specific value in the given dict.\n",
    "a={'name': 'shahed', 'age': 22, 'place': 'MBNR'}\n",
    "a['name']='shaik shahed'\n",
    "print(a)\n",
    "#OR\n",
    "a={'name': 'shahed', 'age': 22, 'place': 'MBNR'}\n",
    "a|={'name':'shaik shahed'}\n",
    "print(a)"
   ]
  },
  {
   "cell_type": "code",
   "execution_count": 42,
   "metadata": {},
   "outputs": [
    {
     "name": "stdout",
     "output_type": "stream",
     "text": [
      "['a', 'b', 'c', 'd', 'e', 'f']\n",
      "('a', 'b', 'c', 'd', 'e', 'f')\n"
     ]
    }
   ],
   "source": [
    "#48. WAS to concat the list value and tuple value by using Type casting.\n",
    "#Converting LIST to TUPLE\n",
    "l=['a','b','c']\n",
    "t=('d','e','f')\n",
    "l=l+list(t)\n",
    "print(l)\n",
    "#Converting TUPLE to LIST\n",
    "l=['a','b','c']\n",
    "t=('d','e','f')\n",
    "t=tuple(l)+t\n",
    "print(t)"
   ]
  },
  {
   "cell_type": "code",
   "execution_count": 43,
   "metadata": {},
   "outputs": [
    {
     "name": "stdout",
     "output_type": "stream",
     "text": [
      "['a', 'b', 'c', 'd', 'e', 'f']\n"
     ]
    }
   ],
   "source": [
    "#49. WAS to concat the list and tuple value without using Type casting.\n",
    "l=['a','b','c']\n",
    "t=('d','e','f')\n",
    "l+=t\n",
    "print(l)"
   ]
  },
  {
   "cell_type": "code",
   "execution_count": 44,
   "metadata": {},
   "outputs": [
    {
     "name": "stdout",
     "output_type": "stream",
     "text": [
      "True\n"
     ]
    }
   ],
   "source": [
    "#50. WAS to check given number is divisible by 3.\n",
    "a=27\n",
    "print(a%3==0)"
   ]
  },
  {
   "cell_type": "code",
   "execution_count": 45,
   "metadata": {},
   "outputs": [
    {
     "name": "stdout",
     "output_type": "stream",
     "text": [
      "True\n"
     ]
    }
   ],
   "source": [
    "#51. WAS to check the given number is divisble by 2 and 6.\n",
    "a=24\n",
    "print(a%2==0 and a%6==0)"
   ]
  },
  {
   "cell_type": "code",
   "execution_count": 46,
   "metadata": {},
   "outputs": [
    {
     "name": "stdout",
     "output_type": "stream",
     "text": [
      "6\n",
      "26\n"
     ]
    }
   ],
   "source": [
    "#52. (A) WAS to extract the last digit in the given integer number(without Type casting)\n",
    "a=126\n",
    "print(a%10)\n",
    "# (B) Extract last two digits\n",
    "a=126\n",
    "print(a%100)"
   ]
  },
  {
   "cell_type": "code",
   "execution_count": 47,
   "metadata": {},
   "outputs": [
    {
     "name": "stdout",
     "output_type": "stream",
     "text": [
      "True\n"
     ]
    }
   ],
   "source": [
    "#53. WAS to check the last digit is divisble by 3 from given integer number.(without type casting)\n",
    "a=126\n",
    "print((a%10)%3==0)"
   ]
  },
  {
   "cell_type": "code",
   "execution_count": 48,
   "metadata": {},
   "outputs": [
    {
     "name": "stdout",
     "output_type": "stream",
     "text": [
      "True\n"
     ]
    }
   ],
   "source": [
    "#54. WAS to check the last digit is divisible by 3 from given number(without Type casting)\n",
    "a=126\n",
    "print(int(str(a)[-1])%3==0)"
   ]
  },
  {
   "cell_type": "code",
   "execution_count": 49,
   "metadata": {},
   "outputs": [
    {
     "name": "stdout",
     "output_type": "stream",
     "text": [
      "True\n"
     ]
    },
    {
     "data": {
      "text/plain": [
       "'True'"
      ]
     },
     "execution_count": 49,
     "metadata": {},
     "output_type": "execute_result"
    }
   ],
   "source": [
    "#55. WAS to check the given number is greater than 150.\n",
    "a=165\n",
    "print(a>150)\n",
    "#OR\n",
    "a=165\n",
    "['False','True'][a>150]"
   ]
  },
  {
   "cell_type": "code",
   "execution_count": 50,
   "metadata": {},
   "outputs": [
    {
     "name": "stdout",
     "output_type": "stream",
     "text": [
      "True\n"
     ]
    },
    {
     "data": {
      "text/plain": [
       "'True'"
      ]
     },
     "execution_count": 50,
     "metadata": {},
     "output_type": "execute_result"
    }
   ],
   "source": [
    "#56. WAS to check the given number is greater than or equal to 100.\n",
    "a=165\n",
    "print(a>=100)\n",
    "#OR\n",
    "a=165\n",
    "['False','True'][a>=100]"
   ]
  },
  {
   "cell_type": "code",
   "execution_count": 51,
   "metadata": {},
   "outputs": [
    {
     "name": "stdout",
     "output_type": "stream",
     "text": [
      "True\n"
     ]
    }
   ],
   "source": [
    "#57. WAS to check the given number is less than 150,print the result.\n",
    "a=100\n",
    "print(a<150)"
   ]
  },
  {
   "cell_type": "code",
   "execution_count": 52,
   "metadata": {},
   "outputs": [
    {
     "name": "stdout",
     "output_type": "stream",
     "text": [
      "True\n"
     ]
    }
   ],
   "source": [
    "#58. WAS to check the given number is less than or equal to 100.\n",
    "a=100\n",
    "print(a<=100)"
   ]
  },
  {
   "cell_type": "code",
   "execution_count": 53,
   "metadata": {},
   "outputs": [
    {
     "name": "stdout",
     "output_type": "stream",
     "text": [
      "True\n"
     ]
    }
   ],
   "source": [
    "#59. WAS to check the given number is greater than 15 and less than 24.\n",
    "a=20\n",
    "print(a>15 and a<24)"
   ]
  },
  {
   "cell_type": "code",
   "execution_count": 54,
   "metadata": {},
   "outputs": [
    {
     "name": "stdout",
     "output_type": "stream",
     "text": [
      "True\n"
     ]
    }
   ],
   "source": [
    "#60.WAS to check the given number is EVEN.\n",
    "a=200\n",
    "print(a%2==0)"
   ]
  },
  {
   "cell_type": "code",
   "execution_count": 55,
   "metadata": {},
   "outputs": [
    {
     "name": "stdout",
     "output_type": "stream",
     "text": [
      "True\n"
     ]
    }
   ],
   "source": [
    "#61. WAS to check the given number is ODD.\n",
    "a=201\n",
    "print(a%2!=0)"
   ]
  },
  {
   "cell_type": "code",
   "execution_count": 56,
   "metadata": {},
   "outputs": [
    {
     "name": "stdout",
     "output_type": "stream",
     "text": [
      "abcabcabcabcabcabc\n",
      "[1, 2, 3, 1, 2, 3, 1, 2, 3, 1, 2, 3, 1, 2, 3, 1, 2, 3]\n"
     ]
    }
   ],
   "source": [
    "#62. Write An Equation(WAE) to check perform the replication of a given string with 6.\n",
    "a='abc'\n",
    "a=a*6\n",
    "print(a)\n",
    "b=[1,2,3]\n",
    "b=b*6\n",
    "print(b)"
   ]
  },
  {
   "cell_type": "code",
   "execution_count": 57,
   "metadata": {},
   "outputs": [
    {
     "name": "stdout",
     "output_type": "stream",
     "text": [
      "True\n"
     ]
    }
   ],
   "source": [
    "#63. WAE to check the given number is divisible by 3 and also the number is greater than 22.\n",
    "a=27\n",
    "print(a%3==0 and a>22)"
   ]
  },
  {
   "cell_type": "code",
   "execution_count": 58,
   "metadata": {},
   "outputs": [
    {
     "name": "stdout",
     "output_type": "stream",
     "text": [
      "False\n"
     ]
    }
   ],
   "source": [
    "#64. WAE to check perform the length of the collection is EVEN or ODD.\n",
    "a='pyspiders'\n",
    "print(len(a)%2==0)"
   ]
  },
  {
   "cell_type": "code",
   "execution_count": 59,
   "metadata": {},
   "outputs": [
    {
     "name": "stdout",
     "output_type": "stream",
     "text": [
      "True\n"
     ]
    },
    {
     "data": {
      "text/plain": [
       "True"
      ]
     },
     "execution_count": 59,
     "metadata": {},
     "output_type": "execute_result"
    }
   ],
   "source": [
    "#65. WAE to check perform the length of the collection less than 55 and greater than 16.\n",
    "a='abcdefghijklmnopqrstuvwxyz'\n",
    "print(len(a)<55 and len(a)>16)\n",
    "#OR\n",
    "a='abcdefghijklmnopqrstuvwxyz'\n",
    "16<len(a)<55"
   ]
  },
  {
   "cell_type": "code",
   "execution_count": 60,
   "metadata": {},
   "outputs": [
    {
     "name": "stdout",
     "output_type": "stream",
     "text": [
      "False\n"
     ]
    }
   ],
   "source": [
    "#66. WAE to check perform the length of the collection is divisible by 5 and odd.\n",
    "a='abcdefghijklmnopqrstuvwxyz'\n",
    "print(len(a)%5==0 and len(a)%2!=0)"
   ]
  },
  {
   "cell_type": "code",
   "execution_count": 61,
   "metadata": {},
   "outputs": [
    {
     "name": "stdout",
     "output_type": "stream",
     "text": [
      "True\n"
     ]
    }
   ],
   "source": [
    "#67. WAE to check extract the middle position of a given collection is either str,list,tuple.\n",
    "s=[10,('a','b'),[10,20]]\n",
    "res=type(s[len(s)//2])\n",
    "print(res in [str,list,tuple])"
   ]
  },
  {
   "cell_type": "code",
   "execution_count": 62,
   "metadata": {},
   "outputs": [
    {
     "name": "stdout",
     "output_type": "stream",
     "text": [
      "True\n"
     ]
    }
   ],
   "source": [
    "#68. WAE to check the given number is greater than 20 and less than 30 and it should be even.\n",
    "a=26\n",
    "print(20<a<30 and a%2==0)"
   ]
  },
  {
   "cell_type": "code",
   "execution_count": 63,
   "metadata": {},
   "outputs": [
    {
     "name": "stdout",
     "output_type": "stream",
     "text": [
      "True\n"
     ]
    }
   ],
   "source": [
    "#69. WAE to  check the given number is even and it should be less than 120.\n",
    "a=100\n",
    "print(a<120 and a%2==0)"
   ]
  },
  {
   "cell_type": "code",
   "execution_count": 64,
   "metadata": {},
   "outputs": [
    {
     "name": "stdout",
     "output_type": "stream",
     "text": [
      "True\n"
     ]
    }
   ],
   "source": [
    "#70. WAE to check the given number is even and present from 40 to 70.\n",
    "a=60\n",
    "print(a%2==0 and 40<a<70)"
   ]
  },
  {
   "cell_type": "code",
   "execution_count": 65,
   "metadata": {},
   "outputs": [
    {
     "name": "stdout",
     "output_type": "stream",
     "text": [
      "True\n"
     ]
    }
   ],
   "source": [
    "#71. WAE to check the given number is odd and should be greater than 97.\n",
    "a=99\n",
    "print(a%2!=0 and a>97)"
   ]
  },
  {
   "cell_type": "code",
   "execution_count": 66,
   "metadata": {},
   "outputs": [
    {
     "name": "stdout",
     "output_type": "stream",
     "text": [
      "True\n"
     ]
    }
   ],
   "source": [
    "#72. WAE to check the given number is less than 122 and greater than 48 and the number should be divisible by 4.\n",
    "a=60\n",
    "print(48<a<122 and a%4==0)"
   ]
  },
  {
   "cell_type": "code",
   "execution_count": 67,
   "metadata": {},
   "outputs": [
    {
     "name": "stdout",
     "output_type": "stream",
     "text": [
      "True\n"
     ]
    }
   ],
   "source": [
    "#73. WAE to check the given number is divisible by 3 or 5,displaying the value.\n",
    "a=15\n",
    "print(a%3==0 or a%5==0)"
   ]
  },
  {
   "cell_type": "code",
   "execution_count": 68,
   "metadata": {},
   "outputs": [
    {
     "name": "stdout",
     "output_type": "stream",
     "text": [
      "True\n"
     ]
    }
   ],
   "source": [
    "#74. WAE to check the given number is between 100 to 200 including the limit.\n",
    "a=150\n",
    "print(100<=a<=200)"
   ]
  },
  {
   "cell_type": "code",
   "execution_count": 69,
   "metadata": {},
   "outputs": [
    {
     "name": "stdout",
     "output_type": "stream",
     "text": [
      "True\n"
     ]
    }
   ],
   "source": [
    "#75. WAE to check the given number is in between 100 to 200.\n",
    "a=199\n",
    "print(100<a<200)"
   ]
  },
  {
   "cell_type": "code",
   "execution_count": 70,
   "metadata": {},
   "outputs": [
    {
     "name": "stdout",
     "output_type": "stream",
     "text": [
      "False\n"
     ]
    }
   ],
   "source": [
    "#76. WAE to check the given string last character ASCII value should be divisible by 5 or not.\n",
    "a='apple'\n",
    "print(ord(a[-1])%5==0)"
   ]
  },
  {
   "cell_type": "code",
   "execution_count": 71,
   "metadata": {},
   "outputs": [
    {
     "name": "stdout",
     "output_type": "stream",
     "text": [
      "False\n",
      "True\n"
     ]
    }
   ],
   "source": [
    "#77. (A) WAE to check the given number is present 60 and 130 and the number should be divisible by 3 and 4 and the last digit should be greater than 9.\n",
    "a=120\n",
    "print(60<=a<=130 and a%3==0 and a%4==0 and a%10>9 ) \n",
    "#(B) WAE to check the given number is present 60 and 130 and the number should be divisible by 3 and 4 and the last digit should be less than 9.\n",
    "a=120\n",
    "print(60<=a<=130 and a%3==0 and a%4==0 and a%10<9 )"
   ]
  },
  {
   "cell_type": "code",
   "execution_count": 72,
   "metadata": {},
   "outputs": [
    {
     "name": "stdout",
     "output_type": "stream",
     "text": [
      "True\n"
     ]
    }
   ],
   "source": [
    "#78. WAE to check the given number is Even or less than 25.\n",
    "a=18\n",
    "print(a%2==0 or a<25)"
   ]
  },
  {
   "cell_type": "code",
   "execution_count": 73,
   "metadata": {},
   "outputs": [
    {
     "name": "stdout",
     "output_type": "stream",
     "text": [
      "True\n"
     ]
    }
   ],
   "source": [
    "#79. WAE to check the given number is Even or greater than 25.\n",
    "a=18\n",
    "print(a%2==0 or a>25)"
   ]
  },
  {
   "cell_type": "code",
   "execution_count": 74,
   "metadata": {},
   "outputs": [
    {
     "name": "stdout",
     "output_type": "stream",
     "text": [
      "True\n"
     ]
    }
   ],
   "source": [
    "#80. WAE to check the given number is divisible by 3 or 5.\n",
    "a=27\n",
    "print(a%3==0 or a%5==0)"
   ]
  },
  {
   "cell_type": "code",
   "execution_count": 75,
   "metadata": {},
   "outputs": [
    {
     "name": "stdout",
     "output_type": "stream",
     "text": [
      "True\n"
     ]
    }
   ],
   "source": [
    "#81. WAE to check the given number is not an Even Number.\n",
    "a=25\n",
    "print((a)%2!=0)"
   ]
  },
  {
   "cell_type": "code",
   "execution_count": 77,
   "metadata": {},
   "outputs": [
    {
     "name": "stdout",
     "output_type": "stream",
     "text": [
      "True\n"
     ]
    }
   ],
   "source": [
    "#82. WAE to check the given number is not an odd Number.\n",
    "a=26\n",
    "print((a)%2==0)"
   ]
  },
  {
   "cell_type": "code",
   "execution_count": 76,
   "metadata": {},
   "outputs": [
    {
     "name": "stdout",
     "output_type": "stream",
     "text": [
      "True\n"
     ]
    }
   ],
   "source": [
    "#83. WAE to check the given number is not divisible by 3.\n",
    "a=25\n",
    "print((a)%3!=0)"
   ]
  },
  {
   "cell_type": "code",
   "execution_count": 78,
   "metadata": {},
   "outputs": [
    {
     "name": "stdout",
     "output_type": "stream",
     "text": [
      "True\n"
     ]
    }
   ],
   "source": [
    "#84. WAE to check the given number is not divisible by 3 and 5.\n",
    "a=26\n",
    "print(a%3!=0 and a%5!=0)"
   ]
  },
  {
   "cell_type": "code",
   "execution_count": 79,
   "metadata": {},
   "outputs": [
    {
     "name": "stdout",
     "output_type": "stream",
     "text": [
      "True\n"
     ]
    }
   ],
   "source": [
    "#85. WAE to check the given number is not divisible by 3 or 5.\n",
    "a=26\n",
    "print(a%3!=0 or a%5!=0)"
   ]
  },
  {
   "cell_type": "code",
   "execution_count": 80,
   "metadata": {},
   "outputs": [
    {
     "name": "stdout",
     "output_type": "stream",
     "text": [
      "104\n",
      "True\n"
     ]
    }
   ],
   "source": [
    "#86. WAE to check the given character ASCII value is not divisible by 5.\n",
    "a='h'\n",
    "print(ord(a))\n",
    "print(ord(a)%5!=0)"
   ]
  },
  {
   "cell_type": "code",
   "execution_count": 81,
   "metadata": {},
   "outputs": [
    {
     "name": "stdout",
     "output_type": "stream",
     "text": [
      "X\n"
     ]
    }
   ],
   "source": [
    "#87. WAE to check find out the ASCII character in a given number.\n",
    "a=88\n",
    "print(chr(a))"
   ]
  },
  {
   "cell_type": "code",
   "execution_count": 82,
   "metadata": {},
   "outputs": [
    {
     "name": "stdout",
     "output_type": "stream",
     "text": [
      "65\n"
     ]
    }
   ],
   "source": [
    "#88. WAE to find ASCII value of a given character.\n",
    "a='A'\n",
    "print(ord(a))"
   ]
  },
  {
   "cell_type": "code",
   "execution_count": 83,
   "metadata": {},
   "outputs": [
    {
     "name": "stdout",
     "output_type": "stream",
     "text": [
      "True\n",
      "True\n"
     ]
    }
   ],
   "source": [
    "#89. WAE to check the given character is Upper case or not.\n",
    "ch='A'\n",
    "print(len(ch)==1 and 'A'<=ch<='Z')\n",
    "#OR\n",
    "ch='A'\n",
    "print(len(ch)==1 and 65<=ord(ch)<=90)"
   ]
  },
  {
   "cell_type": "code",
   "execution_count": 84,
   "metadata": {},
   "outputs": [
    {
     "name": "stdout",
     "output_type": "stream",
     "text": [
      "True\n",
      "True\n"
     ]
    }
   ],
   "source": [
    "#90. WAE to check the given character is a lower case or not.\n",
    "ch='a'\n",
    "print(len(ch)==1 and 'a'<=ch<='z')\n",
    "#OR\n",
    "ch='c'\n",
    "print(len(ch)==1 and 97<=ord(ch)<=122)"
   ]
  },
  {
   "cell_type": "code",
   "execution_count": 85,
   "metadata": {},
   "outputs": [
    {
     "name": "stdout",
     "output_type": "stream",
     "text": [
      "True\n"
     ]
    }
   ],
   "source": [
    "#91. WAE to check the given character is a alphabet or not.\n",
    "ch='U'\n",
    "print( len(ch)==1 and 'A'<=ch<='Z' or 'a'<=ch<='z')"
   ]
  },
  {
   "cell_type": "code",
   "execution_count": 86,
   "metadata": {},
   "outputs": [
    {
     "name": "stdout",
     "output_type": "stream",
     "text": [
      "True\n"
     ]
    }
   ],
   "source": [
    "#92. WAE to check the given character is the ASCII Number.\n",
    "ch='5'\n",
    "print(len(ch)==1 and '0'<=ch<='9')"
   ]
  },
  {
   "cell_type": "code",
   "execution_count": 87,
   "metadata": {},
   "outputs": [
    {
     "name": "stdout",
     "output_type": "stream",
     "text": [
      "False\n"
     ]
    }
   ],
   "source": [
    "#93. WAE to check the given character is special character or not.\n",
    "a='@'\n",
    "print('A'<=a<='Z' or 'a'<=a<='z' or '0'<=a<='9')"
   ]
  },
  {
   "cell_type": "code",
   "execution_count": 92,
   "metadata": {},
   "outputs": [
    {
     "name": "stdout",
     "output_type": "stream",
     "text": [
      "False\n",
      "True\n"
     ]
    }
   ],
   "source": [
    "#94)wap to check the given char is not a uppercase\n",
    "ch='A'\n",
    "print(not('A'<=ch<='Z' ))\n",
    "ch='a'\n",
    "print(not('A'<=ch<='Z' ))"
   ]
  },
  {
   "cell_type": "code",
   "execution_count": 104,
   "metadata": {},
   "outputs": [
    {
     "name": "stdout",
     "output_type": "stream",
     "text": [
      "False\n",
      "True\n"
     ]
    }
   ],
   "source": [
    "#95)wap to check the given character should not be lowercase.\n",
    "ch='a'\n",
    "print(not('a'<=ch<='z'))\n",
    "ch='A'\n",
    "print(not('a'<=ch<='z'))"
   ]
  },
  {
   "cell_type": "code",
   "execution_count": 109,
   "metadata": {},
   "outputs": [
    {
     "name": "stdout",
     "output_type": "stream",
     "text": [
      "False\n",
      "False\n",
      "True\n"
     ]
    }
   ],
   "source": [
    "#96)wap to check the given character should not be the alphabet.\n",
    "ch='a'\n",
    "print(not('A'<=ch<='Z' or'a'<=ch<='z'))\n",
    "print(not(len(ch)==1 and ('A'<=ch<='Z' or'a'<=ch<='z')))\n",
    "ch='0'\n",
    "print(not(len(ch)==1 and ('A'<=ch<='Z' or'a'<=ch<='z')))"
   ]
  },
  {
   "cell_type": "code",
   "execution_count": 112,
   "metadata": {},
   "outputs": [
    {
     "name": "stdout",
     "output_type": "stream",
     "text": [
      "True\n"
     ]
    }
   ],
   "source": [
    "#97)wap to check the given character should not be an ASCII number.\n",
    "ch='a'\n",
    "print(not(ord(ch)>= 48 and ord(ch)<=57))"
   ]
  },
  {
   "cell_type": "code",
   "execution_count": 98,
   "metadata": {},
   "outputs": [
    {
     "name": "stdout",
     "output_type": "stream",
     "text": [
      "True\n",
      "False\n"
     ]
    }
   ],
   "source": [
    "#98)wap to check the given character should not be a special character.\n",
    "ch='a'\n",
    "print('A'<=ch<='Z' or 'a'<=ch<='z' or '0'<=ch<='9')\n",
    "ch='@'\n",
    "print(not(0<=ord(ch)<=47 or 58<=ord(ch)<=64 or 91<=ord(ch)<=96 or 123<=ord(ch)<=127))"
   ]
  },
  {
   "cell_type": "code",
   "execution_count": 115,
   "metadata": {},
   "outputs": [
    {
     "name": "stdout",
     "output_type": "stream",
     "text": [
      "True\n",
      "False\n",
      "True\n",
      "False\n"
     ]
    }
   ],
   "source": [
    "#99)wae to check the given character is a vowel.\n",
    "ch='A'\n",
    "print(ch=='A' or ch=='E' or ch=='I' or ch=='O' or ch=='U' or ch=='a' or ch=='e' or ch=='i' or ch=='o' or ch=='u')\n",
    "ch='b'\n",
    "print(ch=='A' or ch=='E' or ch=='I' or ch=='O' or ch=='U' or ch=='a' or ch=='e' or ch=='i' or ch=='o' or ch=='u')\n",
    "ch='u'\n",
    "print(ch in \"AEIOUaeiou\")\n",
    "ch=\"g\"\n",
    "print(ch in\"AEIOUaeiou\")"
   ]
  },
  {
   "cell_type": "code",
   "execution_count": 117,
   "metadata": {},
   "outputs": [
    {
     "name": "stdout",
     "output_type": "stream",
     "text": [
      "True\n",
      "False\n"
     ]
    }
   ],
   "source": [
    "#100)wae to check the given character is a consonant.\n",
    "ch=\"g\"\n",
    "print(not(ch in \"AEIOUaeiou\"))\n",
    "ch=\"a\"\n",
    "print(not(ch in\"AEIOUaeiou\"))"
   ]
  },
  {
   "cell_type": "code",
   "execution_count": 5,
   "metadata": {},
   "outputs": [
    {
     "data": {
      "text/plain": [
       "'A'"
      ]
     },
     "execution_count": 5,
     "metadata": {},
     "output_type": "execute_result"
    }
   ],
   "source": [
    "#101)wae to convert Upper case to lower case\n",
    "ch='A'\n",
    "chr(ord(ch)+32)"
   ]
  },
  {
   "cell_type": "code",
   "execution_count": 6,
   "metadata": {},
   "outputs": [
    {
     "data": {
      "text/plain": [
       "'A'"
      ]
     },
     "execution_count": 6,
     "metadata": {},
     "output_type": "execute_result"
    }
   ],
   "source": [
    "#102)wae to convert lower case to upper case\n",
    "ch='a'\n",
    "chr(ord(ch)-32)"
   ]
  },
  {
   "cell_type": "code",
   "execution_count": 7,
   "metadata": {},
   "outputs": [
    {
     "data": {
      "text/plain": [
       "'A'"
      ]
     },
     "execution_count": 7,
     "metadata": {},
     "output_type": "execute_result"
    }
   ],
   "source": [
    "#103)wae to extract the precious character in the given character \n",
    "ch='B'\n",
    "chr(ord(ch)-1)"
   ]
  },
  {
   "cell_type": "code",
   "execution_count": 10,
   "metadata": {},
   "outputs": [
    {
     "data": {
      "text/plain": [
       "'E'"
      ]
     },
     "execution_count": 10,
     "metadata": {},
     "output_type": "execute_result"
    }
   ],
   "source": [
    "#104)wae to extraxt the next character in the given character \n",
    "ch='B'\n",
    "chr(ord(ch)+3)"
   ]
  },
  {
   "cell_type": "code",
   "execution_count": 11,
   "metadata": {},
   "outputs": [
    {
     "data": {
      "text/plain": [
       "True"
      ]
     },
     "execution_count": 11,
     "metadata": {},
     "output_type": "execute_result"
    }
   ],
   "source": [
    "#105)wae to chect the given character is converted to ASCII value and the value is even as well as the character should be lower case\n",
    "ch='d'\n",
    "len(ch)==1 and ord(ch)%2==0 and 'a'<=ch <'z'"
   ]
  },
  {
   "cell_type": "code",
   "execution_count": 12,
   "metadata": {},
   "outputs": [
    {
     "data": {
      "text/plain": [
       "False"
      ]
     },
     "execution_count": 12,
     "metadata": {},
     "output_type": "execute_result"
    }
   ],
   "source": [
    "#106)wae to chech the given character is converted to ASCII value and the value is even as well as the character should be lower case\n",
    "ch='d'\n",
    "len(ch)==1 and ord (ch)%2==0 and 'A'<=ch<'Z'"
   ]
  },
  {
   "cell_type": "code",
   "execution_count": 14,
   "metadata": {},
   "outputs": [
    {
     "data": {
      "text/plain": [
       "False"
      ]
     },
     "execution_count": 14,
     "metadata": {},
     "output_type": "execute_result"
    }
   ],
   "source": [
    "#107)WAE to check which the given number is converted to character is not a special symbol or not\n",
    "n=57\n",
    "'A'<=chr(n)<='Z'or'a'<=chr(n)<='Z'or'O'<=chr(n)<='9'"
   ]
  },
  {
   "cell_type": "code",
   "execution_count": 15,
   "metadata": {},
   "outputs": [
    {
     "data": {
      "text/plain": [
       "True"
      ]
     },
     "execution_count": 15,
     "metadata": {},
     "output_type": "execute_result"
    }
   ],
   "source": [
    "#108)wae to check the given number of the ascii character is a vowel or not\n",
    "n=65\n",
    "chr(n)in \"aeiouAEIOU\""
   ]
  },
  {
   "cell_type": "code",
   "execution_count": 17,
   "metadata": {},
   "outputs": [
    {
     "data": {
      "text/plain": [
       "True"
      ]
     },
     "execution_count": 17,
     "metadata": {},
     "output_type": "execute_result"
    }
   ],
   "source": [
    "#109.WAS to check if the 1st and 2nd characters are sequence or not in a given string.\n",
    "ch='ABCD'\n",
    "ord(ch[0])+1==ord(ch[1])"
   ]
  },
  {
   "cell_type": "code",
   "execution_count": 18,
   "metadata": {},
   "outputs": [
    {
     "name": "stdout",
     "output_type": "stream",
     "text": [
      "True\n",
      "True\n"
     ]
    }
   ],
   "source": [
    "#110. WAS to check if the given character ASCII value should be greater than 50 or greater than 25 or less than 112.\n",
    "ch='A'\n",
    "print(ord(ch)>50 or ord(ch)<112)\n",
    "#OR\n",
    "ch='A'\n",
    "print(50<ord(ch)<112)"
   ]
  },
  {
   "cell_type": "code",
   "execution_count": 19,
   "metadata": {},
   "outputs": [
    {
     "name": "stdout",
     "output_type": "stream",
     "text": [
      "57\n"
     ]
    }
   ],
   "source": [
    "#111. WAS to given number is increased by 1.\n",
    "n=56\n",
    "n+=1\n",
    "print(n)"
   ]
  },
  {
   "cell_type": "code",
   "execution_count": 20,
   "metadata": {},
   "outputs": [
    {
     "name": "stdout",
     "output_type": "stream",
     "text": [
      "58\n"
     ]
    }
   ],
   "source": [
    "#112. WAS to a given number increased by 2.\n",
    "n=56\n",
    "n+=2\n",
    "print(n)"
   ]
  },
  {
   "cell_type": "code",
   "execution_count": null,
   "metadata": {},
   "outputs": [],
   "source": [
    "#113. WAS to a given number decreased by 1.\n",
    "n=56\n",
    "n-=1\n",
    "print(n)"
   ]
  },
  {
   "cell_type": "code",
   "execution_count": 21,
   "metadata": {},
   "outputs": [
    {
     "name": "stdout",
     "output_type": "stream",
     "text": [
      "53\n"
     ]
    }
   ],
   "source": [
    "#114. WAS to given number decreased by 3.\n",
    "n=56\n",
    "n-=3\n",
    "print(n)"
   ]
  },
  {
   "cell_type": "code",
   "execution_count": 22,
   "metadata": {},
   "outputs": [
    {
     "name": "stdout",
     "output_type": "stream",
     "text": [
      "True\n"
     ]
    }
   ],
   "source": [
    "#115. WAS to check the integer number is present in the collection.\n",
    "n=10\n",
    "coll=[10,20,30]\n",
    "print(n in coll)"
   ]
  },
  {
   "cell_type": "code",
   "execution_count": 23,
   "metadata": {},
   "outputs": [
    {
     "name": "stdout",
     "output_type": "stream",
     "text": [
      "110\n"
     ]
    }
   ],
   "source": [
    "#116. WAS to check petrform the addition operation on A value and B value and final value should be assigned to A.\n",
    "A=50\n",
    "B=60\n",
    "A+=B\n",
    "print(A)"
   ]
  },
  {
   "cell_type": "code",
   "execution_count": 24,
   "metadata": {},
   "outputs": [
    {
     "name": "stdout",
     "output_type": "stream",
     "text": [
      "True\n"
     ]
    }
   ],
   "source": [
    "#117. WAS to check given value is present in collection.\n",
    "st='D'\n",
    "coll='PYSPIDERS'\n",
    "print(st in coll)"
   ]
  },
  {
   "cell_type": "code",
   "execution_count": 25,
   "metadata": {},
   "outputs": [
    {
     "name": "stdout",
     "output_type": "stream",
     "text": [
      "True\n",
      "True\n",
      "True\n"
     ]
    }
   ],
   "source": [
    "#118. WAE to check the given list is present in the list.\n",
    "a=[1,2]\n",
    "li=[1,2,[1,2],'hai',(10,20)]\n",
    "print(a in li)\n",
    "\n",
    "ch=(1,2)\n",
    "coll=(10,'hai',1,2,[1,2],(1,2))\n",
    "print(ch in coll)\n",
    "\n",
    "st=10\n",
    "col={10 ,'hai',(10,20),(10,'hai')}\n",
    "print(st in col)"
   ]
  },
  {
   "cell_type": "code",
   "execution_count": 26,
   "metadata": {},
   "outputs": [
    {
     "name": "stdout",
     "output_type": "stream",
     "text": [
      "True\n"
     ]
    }
   ],
   "source": [
    "#119. WAE to check the given dict value is present in tuple.\n",
    "d={'a':10}\n",
    "t=(10,20,30)\n",
    "print(d['a'] in t)"
   ]
  },
  {
   "cell_type": "code",
   "execution_count": 28,
   "metadata": {},
   "outputs": [
    {
     "name": "stdout",
     "output_type": "stream",
     "text": [
      "True\n"
     ]
    }
   ],
   "source": [
    "\n",
    "#120. WAE to check the given value is Integer or not.\n",
    "a=15\n",
    "print(type(a)==int)"
   ]
  },
  {
   "cell_type": "code",
   "execution_count": 29,
   "metadata": {},
   "outputs": [
    {
     "name": "stdout",
     "output_type": "stream",
     "text": [
      "True\n"
     ]
    }
   ],
   "source": [
    "#121) WAE to check the given value is string or not.\n",
    "a='ABCD'\n",
    "print(type(a)==str)"
   ]
  },
  {
   "cell_type": "code",
   "execution_count": 30,
   "metadata": {},
   "outputs": [
    {
     "name": "stdout",
     "output_type": "stream",
     "text": [
      "True\n"
     ]
    }
   ],
   "source": [
    "#122)wae to check given value is single value or not\n",
    "a=b'1010'\n",
    "print(type(a) in [int,float,complex,bytes,bool,type(None)])"
   ]
  },
  {
   "cell_type": "code",
   "execution_count": 31,
   "metadata": {},
   "outputs": [
    {
     "name": "stdout",
     "output_type": "stream",
     "text": [
      "False\n"
     ]
    }
   ],
   "source": [
    "#123)wae to check the given value should not be a single value\n",
    "a=b'0101'\n",
    "print(type(a) not in [int,float,complex,bytes,bool,type(None)])"
   ]
  },
  {
   "cell_type": "code",
   "execution_count": 32,
   "metadata": {},
   "outputs": [
    {
     "name": "stdout",
     "output_type": "stream",
     "text": [
      "True\n"
     ]
    }
   ],
   "source": [
    "#124)WAE to check the given value is multivalue or not.\n",
    "a='helloworld'\n",
    "print(type(a) in [str,list,tuple,set,dict])"
   ]
  },
  {
   "cell_type": "code",
   "execution_count": 33,
   "metadata": {},
   "outputs": [
    {
     "name": "stdout",
     "output_type": "stream",
     "text": [
      "True\n"
     ]
    }
   ],
   "source": [
    "#125. WAE to check given value is a mutable value or not.\n",
    "a=[1,2]\n",
    "print(type(a) in [list,set,dict])"
   ]
  },
  {
   "cell_type": "code",
   "execution_count": 34,
   "metadata": {},
   "outputs": [
    {
     "name": "stdout",
     "output_type": "stream",
     "text": [
      "True\n"
     ]
    }
   ],
   "source": [
    "#126. WAE to check given value is a Immutable value or not.\n",
    "a=15.12\n",
    "print(type(a) in [int,float,complex,bytes,bool,type(None),str,tuple])"
   ]
  },
  {
   "cell_type": "code",
   "execution_count": 35,
   "metadata": {},
   "outputs": [
    {
     "name": "stdout",
     "output_type": "stream",
     "text": [
      "True\n"
     ]
    }
   ],
   "source": [
    "#127. WAE to check if a given value is divisible by 6 as well as that value present in collection or not.\n",
    "a=['123',36,'abc',(123),[3,4,5],98.34]\n",
    "b=36\n",
    "print(b%6==0 and b in a)"
   ]
  },
  {
   "cell_type": "code",
   "execution_count": 36,
   "metadata": {},
   "outputs": [
    {
     "name": "stdout",
     "output_type": "stream",
     "text": [
      "3\n"
     ]
    }
   ],
   "source": [
    "#128. WAE to check perform the BITWISE AND operator in given values are 15 and 19.\n",
    "a=15\n",
    "b=19\n",
    "print(15 & 19)"
   ]
  },
  {
   "cell_type": "code",
   "execution_count": 37,
   "metadata": {},
   "outputs": [
    {
     "name": "stdout",
     "output_type": "stream",
     "text": [
      "127\n"
     ]
    }
   ],
   "source": [
    "#129. WAE to check perform the BITWISE OR operator in given values are 115 and 79.\n",
    "a=115\n",
    "b=79\n",
    "print(115 | 79)"
   ]
  },
  {
   "cell_type": "code",
   "execution_count": 38,
   "metadata": {},
   "outputs": [
    {
     "name": "stdout",
     "output_type": "stream",
     "text": [
      "46\n"
     ]
    }
   ],
   "source": [
    "#130. WAE to check perform the BITWISE XOR operator in given values are 56 and 22.\n",
    "a=56\n",
    "b=22\n",
    "print(56 ^ 22)"
   ]
  },
  {
   "cell_type": "code",
   "execution_count": 39,
   "metadata": {},
   "outputs": [
    {
     "name": "stdout",
     "output_type": "stream",
     "text": [
      "-16\n",
      "-16\n"
     ]
    }
   ],
   "source": [
    "#131. WAE to check perform the BITWISE NOT  operator in given values are 15.\n",
    "a=15\n",
    "print(~a)\n",
    "print(-(a+1))"
   ]
  },
  {
   "cell_type": "code",
   "execution_count": 40,
   "metadata": {},
   "outputs": [
    {
     "name": "stdout",
     "output_type": "stream",
     "text": [
      "256\n"
     ]
    }
   ],
   "source": [
    "#132. WAE to perform the BITWISE LEFT SHIFT with 32 and skipping value is 3.\n",
    "m=32\n",
    "n=3\n",
    "print(m<<3)"
   ]
  },
  {
   "cell_type": "code",
   "execution_count": 41,
   "metadata": {},
   "outputs": [
    {
     "name": "stdout",
     "output_type": "stream",
     "text": [
      "6\n"
     ]
    }
   ],
   "source": [
    "#133. WAE to perform the BITWISE RIGHT SHIFT with 25 and skipping value is 2.\n",
    "m=25\n",
    "n=2\n",
    "print(m>>2)"
   ]
  },
  {
   "cell_type": "code",
   "execution_count": 42,
   "metadata": {},
   "outputs": [],
   "source": [
    "#134. Find out the output of the given value condition.\n",
    "m=(10+20*60 and 10**3) or ({10,20} or not ([15-16]))"
   ]
  },
  {
   "cell_type": "code",
   "execution_count": 43,
   "metadata": {},
   "outputs": [
    {
     "name": "stdout",
     "output_type": "stream",
     "text": [
      "True\n",
      "True\n"
     ]
    }
   ],
   "source": [
    "#135. WAE to check a given key is present in dict or not.\n",
    "d={'a':10,'b':20,'c':30}\n",
    "k= 'a'\n",
    "print(k in d)\n",
    "#OR\n",
    "d={'a':10,'b':20,'c':30}\n",
    "k= 'a'\n",
    "print(k in d.keys())"
   ]
  },
  {
   "cell_type": "code",
   "execution_count": null,
   "metadata": {},
   "outputs": [],
   "source": [
    "#136. WAE to check if a given value is present in dict or not.\n",
    "d={'a':10,'b':20,'c':30}\n",
    "k=10\n",
    "print(k in d)\n",
    "#so, upper equation is not possible for values.\n",
    "d={'a':10,'b':20,'c':30}\n",
    "k=10\n",
    "print(k in d.values())"
   ]
  },
  {
   "cell_type": "code",
   "execution_count": 44,
   "metadata": {},
   "outputs": [
    {
     "name": "stdout",
     "output_type": "stream",
     "text": [
      "False\n",
      "False\n"
     ]
    }
   ],
   "source": [
    "#137. WAE to check if a given key is not present in a dict or not.\n",
    "d={'a':10,'b':20,'c':30}\n",
    "k= 'a'\n",
    "print(k not in d)\n",
    "#OR\n",
    "d={'a':10,'b':20,'c':30}\n",
    "k= 'a'\n",
    "print(k not in d.keys())"
   ]
  },
  {
   "cell_type": "code",
   "execution_count": 45,
   "metadata": {},
   "outputs": [
    {
     "name": "stdout",
     "output_type": "stream",
     "text": [
      "True\n"
     ]
    }
   ],
   "source": [
    "#138. WAE to check if a key value pair present in dict or not.\n",
    "d={'a':10,'b':20,'c':30}\n",
    "k=('a',10)\n",
    "print(k in d.items())"
   ]
  },
  {
   "cell_type": "code",
   "execution_count": 46,
   "metadata": {},
   "outputs": [
    {
     "name": "stdout",
     "output_type": "stream",
     "text": [
      "True\n",
      "True\n"
     ]
    }
   ],
   "source": [
    "#139. WAE to check if two values are pointing the same memory or not.\n",
    "  #If values are present in between (-5 to 256) then it has same memory.\n",
    "print(25==25) #Here both values are int type so it is showing true.\n",
    "#OR\n",
    "a=25\n",
    "b=25\n",
    "print(a is b) #Here both values are int type and has same memory s"
   ]
  },
  {
   "cell_type": "code",
   "execution_count": 47,
   "metadata": {},
   "outputs": [
    {
     "name": "stdout",
     "output_type": "stream",
     "text": [
      "True\n",
      "False\n"
     ]
    }
   ],
   "source": [
    "#140. WAE to check both values should be integer and both the values are pointing to the same address.\n",
    "a=256\n",
    "b=256\n",
    "print(type(a)==int and type(b)==int and a is b) #If values are present in between (-5 to 256) then it has same memory.\n",
    "a=260\n",
    "b=260\n",
    "print(type(a)==int and type(b)==int and a is b) #Here both values "
   ]
  },
  {
   "cell_type": "code",
   "execution_count": 4,
   "metadata": {},
   "outputs": [
    {
     "data": {
      "text/plain": [
       "'mh'"
      ]
     },
     "execution_count": 4,
     "metadata": {},
     "output_type": "execute_result"
    }
   ],
   "source": [
    "\n"
   ]
  },
  {
   "cell_type": "code",
   "execution_count": null,
   "metadata": {},
   "outputs": [],
   "source": [
    "a=\"\""
   ]
  }
 ],
 "metadata": {
  "kernelspec": {
   "display_name": "Python 3",
   "language": "python",
   "name": "python3"
  },
  "language_info": {
   "codemirror_mode": {
    "name": "ipython",
    "version": 3
   },
   "file_extension": ".py",
   "mimetype": "text/x-python",
   "name": "python",
   "nbconvert_exporter": "python",
   "pygments_lexer": "ipython3",
   "version": "3.11.4"
  },
  "orig_nbformat": 4
 },
 "nbformat": 4,
 "nbformat_minor": 2
}
