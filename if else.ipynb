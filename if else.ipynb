{
 "cells": [
  {
   "cell_type": "code",
   "execution_count": 1,
   "metadata": {},
   "outputs": [
    {
     "name": "stdout",
     "output_type": "stream",
     "text": [
      "negative\n"
     ]
    }
   ],
   "source": [
    "#1)WAP to check whether a number is positive or negative. If Positive print positive message or else print Negative Number\n",
    "a=-10\n",
    "if(a>0):\n",
    "    print(\"positive\")\n",
    "else:\n",
    "    print(\"negative\")\n"
   ]
  },
  {
   "cell_type": "code",
   "execution_count": 2,
   "metadata": {},
   "outputs": [
    {
     "name": "stdout",
     "output_type": "stream",
     "text": [
      "odd\n"
     ]
    }
   ],
   "source": [
    "#2)WAP to check whether a number is even or odd. If even, print message an even or else print message as odd\n",
    "a=5\n",
    "if(a%2==0):\n",
    "    print(\"even\")\n",
    "else:\n",
    "    print(\"odd\")"
   ]
  },
  {
   "cell_type": "code",
   "execution_count": 3,
   "metadata": {},
   "outputs": [
    {
     "name": "stdout",
     "output_type": "stream",
     "text": [
      "not greater\n"
     ]
    }
   ],
   "source": [
    "#3)Write a program to check whether a given number is greater than 10 or not. if it is greater than 10 print message as greater or else print that number with not a greater than.\n",
    "a=10\n",
    "if(a>10):\n",
    "    print(\"greater\")\n",
    "else:\n",
    "    print(\"not greater\")"
   ]
  },
  {
   "cell_type": "code",
   "execution_count": 4,
   "metadata": {},
   "outputs": [
    {
     "name": "stdout",
     "output_type": "stream",
     "text": [
      "good afternoon\n"
     ]
    }
   ],
   "source": [
    "#4)WAP to check whether the given two input numbers are divisible by 3 and 5. If it is divisible, print “Good Morning”, if it is not divisible print “Good Evening”.\n",
    "a=10\n",
    "if(a%3==0 and a%5==0):\n",
    "    print(\"good morning\")\n",
    "else:\n",
    "    print(\"good afternoon\")\n"
   ]
  },
  {
   "cell_type": "code",
   "execution_count": 5,
   "metadata": {},
   "outputs": [
    {
     "name": "stdout",
     "output_type": "stream",
     "text": [
      "quotation value\n"
     ]
    }
   ],
   "source": [
    "#5)WAP to accept two integers and check whether those two values are equal or not. If equal, multiply to value or else to display the quotation value.\n",
    "a=10\n",
    "b=20\n",
    "if(a==b):\n",
    "    print(a*b)\n",
    "else:\n",
    "    print(\"quotation value\")"
   ]
  },
  {
   "cell_type": "code",
   "execution_count": 6,
   "metadata": {},
   "outputs": [
    {
     "name": "stdout",
     "output_type": "stream",
     "text": [
      "40\n"
     ]
    }
   ],
   "source": [
    "#6)WAP to find the largest of two numbers.\n",
    "a=30\n",
    "b=40\n",
    "if(a>b):\n",
    "    print(a)\n",
    "else:\n",
    "    print(b)"
   ]
  },
  {
   "cell_type": "code",
   "execution_count": 7,
   "metadata": {},
   "outputs": [
    {
     "name": "stdout",
     "output_type": "stream",
     "text": [
      "9\n"
     ]
    }
   ],
   "source": [
    "#7)WAP to check whether the input number is greater than 10 or not if it is greater than 10 print messages as greater with number. if it is not a greater than 10 print that number.\n",
    "a=9\n",
    "if(a>10):\n",
    "    print(\"greater\")\n",
    "else:\n",
    "    print(a)\n"
   ]
  },
  {
   "cell_type": "code",
   "execution_count": 8,
   "metadata": {},
   "outputs": [
    {
     "name": "stdout",
     "output_type": "stream",
     "text": [
      "4\n"
     ]
    }
   ],
   "source": [
    "#8)WAP to the given number integer, if n is greater than 21,print the absolute difference between n and 21 otherwise print twice the absolute difference.\n",
    "n=25\n",
    "if(n>21):\n",
    "    m=n-21\n",
    "    print(m)\n",
    "else:\n",
    "    a=n-21\n",
    "    a=a*2\n",
    "    print(a)\n"
   ]
  },
  {
   "cell_type": "code",
   "execution_count": 9,
   "metadata": {},
   "outputs": [
    {
     "name": "stdout",
     "output_type": "stream",
     "text": [
      "20\n"
     ]
    }
   ],
   "source": [
    "#9)WAP to find the smallest of two numbers\n",
    "a=20\n",
    "b=30\n",
    "if(a<b):\n",
    "    print(a)\n",
    "else:\n",
    "    print(b)"
   ]
  },
  {
   "cell_type": "code",
   "execution_count": 10,
   "metadata": {},
   "outputs": [
    {
     "name": "stdout",
     "output_type": "stream",
     "text": [
      "26\n"
     ]
    }
   ],
   "source": [
    "#10)WAP to check whether the given number is even or odd. If it is even then make it as an add number, if it is an odd number then make it as even number.\n",
    "a=27\n",
    "if(a%2==0):\n",
    "    b=a+1\n",
    "    print(b)\n",
    "else:\n",
    "    b=a-1\n",
    "    print(b)\n"
   ]
  },
  {
   "cell_type": "code",
   "execution_count": 11,
   "metadata": {},
   "outputs": [
    {
     "name": "stdout",
     "output_type": "stream",
     "text": [
      "15\n"
     ]
    }
   ],
   "source": [
    "#11)WAP to check whether the given number is divisible by 3 or not if yes, print the number or else print the cube of the numbers.\n",
    "a=15\n",
    "if(a%3==0):\n",
    "    print(a)\n",
    "else:\n",
    "    print(a*3)\n"
   ]
  },
  {
   "cell_type": "code",
   "execution_count": 12,
   "metadata": {},
   "outputs": [
    {
     "name": "stdout",
     "output_type": "stream",
     "text": [
      "15\n"
     ]
    }
   ],
   "source": [
    "#12)WAP to check whether the given input is divisible by 3 and 5. If yes print the actual number or else print string of that number\n",
    "a=15\n",
    "if(a%3==0 and a%5==0):\n",
    "    print(a)\n",
    "else:\n",
    "    print(str(a))"
   ]
  },
  {
   "cell_type": "code",
   "execution_count": 13,
   "metadata": {},
   "outputs": [
    {
     "name": "stdout",
     "output_type": "stream",
     "text": [
      "36\n"
     ]
    }
   ],
   "source": [
    "#13)WAP to check whether the given number lies between 1 to 19, if it is true square that number or else false cube that number and display the number.\n",
    "a=18\n",
    "if(a>1 and a<19):\n",
    "    print(a*2)\n",
    "else:\n",
    "    print(a*3)\n",
    "    \n"
   ]
  },
  {
   "cell_type": "code",
   "execution_count": 14,
   "metadata": {},
   "outputs": [
    {
     "name": "stdout",
     "output_type": "stream",
     "text": [
      "fail 38\n"
     ]
    }
   ],
   "source": [
    "#14)WAP to check whether the student has passed or failed. If the student got more than 40 marks, print ‘PASS’ along with those marks, if it is not printed ‘FAIL’ along with those marks.\n",
    "a=38\n",
    "if(a>40):\n",
    "    print(a,\"pass\")\n",
    "else:\n",
    "    print(\"fail\",a)"
   ]
  },
  {
   "cell_type": "code",
   "execution_count": 15,
   "metadata": {},
   "outputs": [
    {
     "name": "stdout",
     "output_type": "stream",
     "text": [
      "13\n"
     ]
    }
   ],
   "source": [
    "#15)WAP to check whether a given value is even and in range of 47 to 58 and not in 0 or odd. if condition is True, to perform display the ascii character. or else to perform floor division with 5 and display it\n",
    "a=65\n",
    "if(a%2==0 and a>47 and a<58):\n",
    "    print(chr(a))\n",
    "else:\n",
    "    print(a//5)\n"
   ]
  },
  {
   "cell_type": "code",
   "execution_count": 16,
   "metadata": {},
   "outputs": [
    {
     "name": "stdout",
     "output_type": "stream",
     "text": [
      "[126]\n"
     ]
    }
   ],
   "source": [
    "#16)WAP to check whether a given value is less than 125 and in between 47 to 125 or not. if condition is True, to perform store the given value as key and value as a character into the dict or else to append the value in list and display it.\n",
    "a=126\n",
    "b={}\n",
    "c=[]\n",
    "if(a<125 and a>47 and a<125):\n",
    "    b['a']=122\n",
    "    print(b)\n",
    "else:\n",
    "    c.append(a)\n",
    "    print(c)"
   ]
  },
  {
   "cell_type": "code",
   "execution_count": 17,
   "metadata": {},
   "outputs": [
    {
     "name": "stdout",
     "output_type": "stream",
     "text": [
      "2 not alphabet\n"
     ]
    }
   ],
   "source": [
    "#17)WAP to check whether a given character is in the alphabet or not. if alphabet, display the alphabet with character or else display the not alphabet with character.\n",
    "a='2'\n",
    "if(a>'A' and a<'Z'):\n",
    "    print( a,'alphabet')\n",
    "else:\n",
    "    print(a,\"not alphabet\")\n"
   ]
  },
  {
   "cell_type": "code",
   "execution_count": 18,
   "metadata": {},
   "outputs": [
    {
     "name": "stdout",
     "output_type": "stream",
     "text": [
      "D uppercase\n"
     ]
    }
   ],
   "source": [
    "#18)WAP to check whether a given character is uppercase or other character. if uppercase, display the uppercase with character or else display the other character with character.\n",
    "a=\"D\"\n",
    "if(a>'A' and a<'Z'):\n",
    "    print( a,\"uppercase\")\n",
    "else:\n",
    "    print(a,\"other character\")"
   ]
  },
  {
   "cell_type": "code",
   "execution_count": 19,
   "metadata": {},
   "outputs": [
    {
     "name": "stdout",
     "output_type": "stream",
     "text": [
      "d lower case\n"
     ]
    }
   ],
   "source": [
    "#19)WAP to check whether a given character is lowercase or other character. if lowercase, display the lowercase with character or else display the other character with character\n",
    "a=\"d\"\n",
    "if(a>\"a\" and a<\"z\"):\n",
    "    print(a,\"lower case\")\n",
    "else:\n",
    "    print(a, \"other character\")"
   ]
  },
  {
   "cell_type": "code",
   "execution_count": 20,
   "metadata": {},
   "outputs": [
    {
     "name": "stdout",
     "output_type": "stream",
     "text": [
      "98\n"
     ]
    }
   ],
   "source": [
    "#20)WAP to check whether a given character is uppercase or other character. if uppercase, convert to lowercase .or else display the ascii number.\n",
    "a=\"b\"\n",
    "if(a>'A' and a<'Z'):\n",
    "    print(a.lower())\n",
    "else:\n",
    "    print(ord(a))\n"
   ]
  },
  {
   "cell_type": "code",
   "execution_count": 21,
   "metadata": {},
   "outputs": [
    {
     "name": "stdout",
     "output_type": "stream",
     "text": [
      "D\n"
     ]
    }
   ],
   "source": [
    "#21)WAP to check whether the given character is in lowercase or uppercase. If it is in lowercase, convert it into uppercase, or else it is in uppercase and convert it into lowercase. Display the value\n",
    "a=\"d\"\n",
    "if(a>'A' and a<'Z'):\n",
    "    print( a.lower())\n",
    "else:\n",
    "    print(a.upper())\n"
   ]
  },
  {
   "cell_type": "code",
   "execution_count": 22,
   "metadata": {},
   "outputs": [
    {
     "name": "stdout",
     "output_type": "stream",
     "text": [
      "VAH\n"
     ]
    }
   ],
   "source": [
    "#22)WAP to check whether the given string of the first character is a special symbol or not. If a special symbol, to extract and display the middle character or else to reverse the string and display the half of the string.\n",
    "a=\"MADHAV\"\n",
    "x=a[0]\n",
    "if(a>\"A\" and a<\"Z\" or a>\"a\" and a<\"z\" or a>\"0\" and a<\"9\"):\n",
    "    d=a[::-1]\n",
    "    c=d[0:len(a)//2]\n",
    "    print(c)\n",
    "else:\n",
    "     c=a[len(a)//2]\n",
    "     print(c)\n",
    "\n",
    "\n"
   ]
  },
  {
   "cell_type": "code",
   "execution_count": 23,
   "metadata": {},
   "outputs": [
    {
     "name": "stdout",
     "output_type": "stream",
     "text": [
      "CONSONANT\n"
     ]
    }
   ],
   "source": [
    "#23)WAP to check whether the input character is a vowel or not. If it is vowel print ‘VOWEL’ along with that character, if it is not just print ‘CONSONANT’.\n",
    "c=\"B\"\n",
    "if(c in \"AEIOUaeiou\"):\n",
    "    print(c,\"VOWEL\")\n",
    "else:\n",
    "    print(\"CONSONANT\")"
   ]
  },
  {
   "cell_type": "code",
   "execution_count": 24,
   "metadata": {},
   "outputs": [
    {
     "name": "stdout",
     "output_type": "stream",
     "text": [
      "F\n"
     ]
    }
   ],
   "source": [
    "#24)WAP to check whether a given character is a vowel or consonant. if vowel, to print the next character of a given character or else print previous characters.\n",
    "c=\"E\"\n",
    "if(c in \"AEIOUaeiou\"):\n",
    "    print(chr(ord(c)+1))\n",
    "else:\n",
    "    print(chr(ord(c)-1))"
   ]
  },
  {
   "cell_type": "code",
   "execution_count": 25,
   "metadata": {},
   "outputs": [
    {
     "name": "stdout",
     "output_type": "stream",
     "text": [
      "OLLEH\n"
     ]
    }
   ],
   "source": [
    "#25)WAP to check whether a given string of first character is alphabet or not if the alphabet prints, reverse the string or else print the middle character.\n",
    "a=\"HELLO\"\n",
    "x=[0]\n",
    "if(a>\"a\" and a<\"z\" or a>\"A\" and a<\"Z\"):\n",
    "    d=a[::-1]\n",
    "    print(d)\n",
    "else:\n",
    "    c=a(len(a)//2)\n",
    "    print(c)\n",
    "\n"
   ]
  },
  {
   "cell_type": "code",
   "execution_count": 26,
   "metadata": {},
   "outputs": [
    {
     "name": "stdout",
     "output_type": "stream",
     "text": [
      "d\n"
     ]
    }
   ],
   "source": [
    "#26)WAP to check whether the given input character is uppercase or lowercase. If the input character is upper case convert into lower case and vice versa.\n",
    "a=\"D\"\n",
    "if(a>\"A\" and a<\"Z\" ):\n",
    "    print(a.lower())\n",
    "else:\n",
    "    print(a.upper())"
   ]
  },
  {
   "cell_type": "code",
   "execution_count": 27,
   "metadata": {},
   "outputs": [
    {
     "name": "stdout",
     "output_type": "stream",
     "text": [
      "hii\n"
     ]
    }
   ],
   "source": [
    "#27)WAP to check whether a given string is less than 3 characters, to print the entire string otherwise to print after third positions to the remaining string.\n",
    "a=\"hii\"\n",
    "if(len(a)<=3):\n",
    "    print(a)\n",
    "else:\n",
    "    print(a[3::])\n"
   ]
  },
  {
   "cell_type": "code",
   "execution_count": 28,
   "metadata": {},
   "outputs": [
    {
     "name": "stdout",
     "output_type": "stream",
     "text": [
      "madhavbye\n"
     ]
    }
   ],
   "source": [
    "#28)WAP to check whether a given length of the string is even or not. if even, to append the new string called \"bye\" or else print the first and last characters.\n",
    "a=\"madhav\"\n",
    "b=\"bye\"\n",
    "if(len(a)%2==0):\n",
    "    a+=b\n",
    "    print(a)\n",
    "else:\n",
    "    a=a[0]+a[-1]\n",
    "    print(a)\n"
   ]
  },
  {
   "cell_type": "code",
   "execution_count": 29,
   "metadata": {},
   "outputs": [
    {
     "name": "stdout",
     "output_type": "stream",
     "text": [
      "haiihello\n",
      "hello\n"
     ]
    }
   ],
   "source": [
    "#29)WAP to check whether a given length of the string is odd or not. if odd, to append the new string(\"Haii\") from the starting of the given string, or else to avoid the starting character and ending character of the given string and to display the remaining characters.\n",
    "a=\"hello\"\n",
    "b=\"haii\"\n",
    "if(len(a)%2!=0):\n",
    "    b+=a\n",
    "    print(b)\n",
    "else:\n",
    "    a=a[1:4:1]\n",
    "print(a)\n"
   ]
  },
  {
   "cell_type": "code",
   "execution_count": 30,
   "metadata": {},
   "outputs": [
    {
     "name": "stdout",
     "output_type": "stream",
     "text": [
      "vahdam\n"
     ]
    }
   ],
   "source": [
    "#30)WAP to check whether the last of the given string is a special character or not, if the special character prints reverse the string except the last character or else to check if the length of the string is odd or not, if odd to extract the middle character to the end of the string.\n",
    "a=\"madhav@\"\n",
    "if(a>\"a\" or a<\"z\" or a>\"A\" and a<\"Z\" or a>\"0\" and a<\"9\"):\n",
    "    a=a[-2::-1]\n",
    "    print(a)\n",
    "else:\n",
    "    c=[len(a)//2]\n",
    "    print(c)"
   ]
  },
  {
   "cell_type": "code",
   "execution_count": 31,
   "metadata": {},
   "outputs": [
    {
     "name": "stdout",
     "output_type": "stream",
     "text": [
      "not leap year\n"
     ]
    }
   ],
   "source": [
    "#31)WAP to check whether a given year is a leap year or not. if leap year, print leap year or else not a leap year\n",
    "a=20001\n",
    "if(a%2==0):\n",
    "    print(\"leap year\")\n",
    "else:\n",
    "    print(\"not leap year\")"
   ]
  },
  {
   "cell_type": "code",
   "execution_count": 32,
   "metadata": {},
   "outputs": [
    {
     "name": "stdout",
     "output_type": "stream",
     "text": [
      "30 greatest\n"
     ]
    }
   ],
   "source": [
    "#32)WAP to find out the greatest of two numbers and display the greatest number. if the greatest number, display the greatest message with value.\n",
    "a=20\n",
    "b=30\n",
    "if(b>20):\n",
    "    print(b,\"greatest\")"
   ]
  },
  {
   "cell_type": "code",
   "execution_count": 33,
   "metadata": {},
   "outputs": [
    {
     "name": "stdout",
     "output_type": "stream",
     "text": [
      "not present\n"
     ]
    }
   ],
   "source": [
    "#33)WAP to check whether the given value is present inside the given collection or not.if value is present, display the value is available or else the value is not present.\n",
    "a=(10,20,30)\n",
    "if(40 in a):\n",
    "    print(\"present\")\n",
    "else:\n",
    "    print(\"not present\")"
   ]
  },
  {
   "cell_type": "code",
   "execution_count": 34,
   "metadata": {},
   "outputs": [
    {
     "name": "stdout",
     "output_type": "stream",
     "text": [
      "vadhavm\n"
     ]
    }
   ],
   "source": [
    "#34)WAP whether a given string, if string length is more than 2, then it displays a new string with the first and last characters switched, otherwise the display the 3 copies of given string.\n",
    "a=\"madhav\"\n",
    "if(len(a)):\n",
    "    a=a[-1]+a[1:]+a[0]\n",
    "    print(a)\n",
    "else:\n",
    "    print(a*3)\n"
   ]
  },
  {
   "cell_type": "code",
   "execution_count": 35,
   "metadata": {},
   "outputs": [
    {
     "name": "stdout",
     "output_type": "stream",
     "text": [
      "[3.0, 20, 30, -11]\n"
     ]
    }
   ],
   "source": [
    "#35)WAP to check whether a given value is a list and first and last values should be integer if condition is satisfied first value is True division by 3 and perform the bitwise not for last value and those result values are stored in same positions in given list or else, to perform length of the collection power by 2 and display value.\n",
    "a=[9,20,30,10]\n",
    "if(type(a)==list and type(a[0]==int and type(a[-1])==int)):\n",
    "    a[0]=a[0]/3\n",
    "    a[-1]=~a[-1]\n",
    "    print(a)\n",
    "else:\n",
    "     print(len(a)**2)\n",
    "\n"
   ]
  },
  {
   "cell_type": "code",
   "execution_count": null,
   "metadata": {},
   "outputs": [],
   "source": [
    "#36)WAP to check whether a given value is a string or not and length of the value should be more than 7, if condition is satisfied to append the new string in the middle of the given string or else to perform the replications with 3 and display the result.\n",
    "a=\"madhavkrishna\"\n",
    "c=\"gurram\"\n",
    "if(type(a)==str and len(a)):\n",
    "    a=a[0:len(a)//2]+c+a[0:len(a)//2]\n",
    "    print(a)\n",
    "else:\n",
    "    print(2*3)\n",
    "\n"
   ]
  },
  {
   "cell_type": "code",
   "execution_count": 36,
   "metadata": {},
   "outputs": [
    {
     "name": "stdout",
     "output_type": "stream",
     "text": [
      "abf\n"
     ]
    }
   ],
   "source": [
    "#37.WAP to check if the given string of first and second character should be sequence or not. if the sequence prints the first, second and last two characters, or else the first half string is reversed and the remaining half string should be normal and display it.\n",
    "a='abcdef'\n",
    "if('ab are in sequence'):\n",
    "    a=a[0:2]+a[-1]\n",
    "    print(a)\n",
    "else:\n",
    "    a=a[0:3:-1]+a[3:]\n"
   ]
  },
  {
   "cell_type": "code",
   "execution_count": 37,
   "metadata": {},
   "outputs": [
    {
     "name": "stdout",
     "output_type": "stream",
     "text": [
      "10\n"
     ]
    }
   ],
   "source": [
    "#38.WAP to check whether a given value is present inside the collection or not. If present, print the value or else print value is not found.\n",
    "a=10\n",
    "b=[10,20,30,40]\n",
    "if(a in b):\n",
    "    print(a)\n",
    "else:\n",
    "    print(\"not present\")"
   ]
  },
  {
   "cell_type": "code",
   "execution_count": 38,
   "metadata": {},
   "outputs": [
    {
     "name": "stdout",
     "output_type": "stream",
     "text": [
      "20\n"
     ]
    }
   ],
   "source": [
    "#39.WAP to check whether a given key is present in the dict or not. if key is present: display the value or else add key and new value inside the dict.\n",
    "d={'a':10,'b':20,'c':30}\n",
    "if('b'in d):\n",
    "    print(d['b'])\n",
    "else:\n",
    "    d['e']=50\n",
    "    print(d)"
   ]
  },
  {
   "cell_type": "code",
   "execution_count": 39,
   "metadata": {},
   "outputs": [
    {
     "name": "stdout",
     "output_type": "stream",
     "text": [
      "{80, 50, 20, 70, 40, 10, 30}\n"
     ]
    }
   ],
   "source": [
    "#40.WAP to check whether a given collection is set or not. if set, append the new value, or else eliminate the duplicate values in collection. final results should be set type.\n",
    "a={10,20,30,40,50}\n",
    "b={70,80}\n",
    "if(type(a)==set):\n",
    "    a|=b\n",
    "    print(set(a))\n",
    "    \n",
    "else:\n",
    "    a=a[0:4]\n",
    "    print(set(a))"
   ]
  },
  {
   "cell_type": "code",
   "execution_count": null,
   "metadata": {},
   "outputs": [],
   "source": []
  }
 ],
 "metadata": {
  "kernelspec": {
   "display_name": "Python 3",
   "language": "python",
   "name": "python3"
  },
  "language_info": {
   "codemirror_mode": {
    "name": "ipython",
    "version": 3
   },
   "file_extension": ".py",
   "mimetype": "text/x-python",
   "name": "python",
   "nbconvert_exporter": "python",
   "pygments_lexer": "ipython3",
   "version": "3.11.4"
  },
  "orig_nbformat": 4
 },
 "nbformat": 4,
 "nbformat_minor": 2
}
