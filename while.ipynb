{
 "cells": [
  {
   "cell_type": "code",
   "execution_count": 9,
   "metadata": {},
   "outputs": [
    {
     "name": "stdout",
     "output_type": "stream",
     "text": [
      "valid password PYspiders@%5285\n"
     ]
    }
   ],
   "source": [
    "st=\"PYspiders@%5285\"\n",
    "uc,lc,an,sp=0,0,0,0\n",
    "if 8<=len(st)<=16:\n",
    "    start=0\n",
    "    while start<len(st):\n",
    "        if 'A'<=st[start]<='Z':\n",
    "            uc+=1\n",
    "        elif 'a'<=st[start]<='z':\n",
    "            lc+=1\n",
    "        elif '0'<=st[start]<='9':\n",
    "            an+=1\n",
    "        else:\n",
    "            sp+=1\n",
    "        start+=1\n",
    "    if uc>=2 and lc>=1 and sp>=2 and an>=1:\n",
    "        print(\"valid password\",st)\n",
    "    else:\n",
    "        print(\"invalid password\")\n",
    "\n",
    "else:\n",
    "    print(\"invalid password\")\n",
    "\n",
    "\n",
    "\n",
    "\n",
    "\n"
   ]
  },
  {
   "cell_type": "code",
   "execution_count": 1,
   "metadata": {},
   "outputs": [
    {
     "name": "stdout",
     "output_type": "stream",
     "text": [
      "6\n",
      "valid email\n"
     ]
    }
   ],
   "source": [
    "#WAP to check given email id is vaild or not.if vaild display email id else display invaild emailid.\n",
    "# 1. email should not have any special character except @,. 2.@ should be one and after @ minimum one dot(.) max 2 dots\n",
    "st=\"madhav@gmail.com.in\"\n",
    "i=0\n",
    "temp=0\n",
    "while i<len(st):\n",
    "    if not('A'<=st[i]<='Z' or 'a'<=st[i]<='z' or '0'<=st[i]<='9'or st[i] in '@.'):\n",
    "        temp+=1\n",
    "    i+=1\n",
    "if temp==0:\n",
    "        if '@'in st and '.' in st:\n",
    "            n=0\n",
    "            pos=None\n",
    "            count=0\n",
    "            while n<len(st):\n",
    "                if '@'==st[n]:\n",
    "                    pos=n\n",
    "                    count+=1\n",
    "                n+=1\n",
    "            if count==1:\n",
    "                print(pos)\n",
    "                if '.'in st[pos:]:\n",
    "                    c=0\n",
    "                    while pos<len(st):\n",
    "                        if '.'==st[pos]:\n",
    "                            c+=1\n",
    "                        pos+=1\n",
    "                    if 1<=c<=2:\n",
    "                        print(\"valid email\")\n",
    "                    else:\n",
    "                        (\"invaild\")\n",
    "                else:\n",
    "                    print(\"invalid email\")\n",
    "            else:\n",
    "                print(\"invaild email\")\n",
    "        else:\n",
    "            print(\"invaild email\")\n",
    "else:\n",
    "    print(\"invalid email\")\n"
   ]
  }
 ],
 "metadata": {
  "kernelspec": {
   "display_name": "Python 3",
   "language": "python",
   "name": "python3"
  },
  "language_info": {
   "codemirror_mode": {
    "name": "ipython",
    "version": 3
   },
   "file_extension": ".py",
   "mimetype": "text/x-python",
   "name": "python",
   "nbconvert_exporter": "python",
   "pygments_lexer": "ipython3",
   "version": "3.11.4"
  },
  "orig_nbformat": 4
 },
 "nbformat": 4,
 "nbformat_minor": 2
}
