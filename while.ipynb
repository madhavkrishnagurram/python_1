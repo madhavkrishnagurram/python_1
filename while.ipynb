{
 "cells": [
  {
   "cell_type": "code",
   "execution_count": 9,
   "metadata": {},
   "outputs": [
    {
     "name": "stdout",
     "output_type": "stream",
     "text": [
      "valid password PYspiders@%5285\n"
     ]
    }
   ],
   "source": [
    "st=\"PYspiders@%5285\"\n",
    "uc,lc,an,sp=0,0,0,0\n",
    "if 8<=len(st)<=16:\n",
    "    start=0\n",
    "    while start<len(st):\n",
    "        if 'A'<=st[start]<='Z':\n",
    "            uc+=1\n",
    "        elif 'a'<=st[start]<='z':\n",
    "            lc+=1\n",
    "        elif '0'<=st[start]<='9':\n",
    "            an+=1\n",
    "        else:\n",
    "            sp+=1\n",
    "        start+=1\n",
    "    if uc>=2 and lc>=1 and sp>=2 and an>=1:\n",
    "        print(\"valid password\",st)\n",
    "    else:\n",
    "        print(\"invalid password\")\n",
    "\n",
    "else:\n",
    "    print(\"invalid password\")\n",
    "\n",
    "\n",
    "\n",
    "\n",
    "\n"
   ]
  }
 ],
 "metadata": {
  "kernelspec": {
   "display_name": "Python 3",
   "language": "python",
   "name": "python3"
  },
  "language_info": {
   "codemirror_mode": {
    "name": "ipython",
    "version": 3
   },
   "file_extension": ".py",
   "mimetype": "text/x-python",
   "name": "python",
   "nbconvert_exporter": "python",
   "pygments_lexer": "ipython3",
   "version": "3.11.4"
  },
  "orig_nbformat": 4
 },
 "nbformat": 4,
 "nbformat_minor": 2
}
