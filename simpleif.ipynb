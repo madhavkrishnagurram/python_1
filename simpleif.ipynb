{
 "cells": [
  {
   "cell_type": "code",
   "execution_count": 2,
   "metadata": {},
   "outputs": [
    {
     "name": "stdout",
     "output_type": "stream",
     "text": [
      "positive\n"
     ]
    }
   ],
   "source": [
    "#1)WAP to check whether a number is positive. If Positive, print a message Positive.\n",
    "n=2\n",
    "if(n>=0):\n",
    "    print('positive')"
   ]
  },
  {
   "cell_type": "code",
   "execution_count": 3,
   "metadata": {},
   "outputs": [
    {
     "name": "stdout",
     "output_type": "stream",
     "text": [
      "helloworld\n"
     ]
    }
   ],
   "source": [
    "#2)WAP to display hello world if the number is greater than 1 and lesser than 5\n",
    "n=4\n",
    "if(n>1 and n<5):\n",
    "    print('helloworld')"
   ]
  },
  {
   "cell_type": "code",
   "execution_count": 6,
   "metadata": {},
   "outputs": [
    {
     "name": "stdout",
     "output_type": "stream",
     "text": [
      "fizz\n"
     ]
    }
   ],
   "source": [
    "#3)WAP to check whether the given number is divisible by 3 or not if print fizz.\n",
    "n=9\n",
    "if(n%3==0):\n",
    "    print('fizz')"
   ]
  },
  {
   "cell_type": "code",
   "execution_count": 8,
   "metadata": {},
   "outputs": [
    {
     "name": "stdout",
     "output_type": "stream",
     "text": [
      "(12+0j)\n"
     ]
    }
   ],
   "source": [
    "#4)WAP to check whether given input is divisible by 2 and 6. If the condition issatisfied, convert the given number into a complex number.\n",
    "n=12\n",
    "if(n%2==0 and n%6==0):\n",
    "    print(complex(n))\n"
   ]
  },
  {
   "cell_type": "code",
   "execution_count": 11,
   "metadata": {},
   "outputs": [
    {
     "name": "stdout",
     "output_type": "stream",
     "text": [
      "['3', '0']\n"
     ]
    }
   ],
   "source": [
    "#5)WAP to check whether a given input is divisible by 3 or 5. If the condition is satisfied, the number is converted to a list.i/p: 30 o/p:[‘3’,’0’]\n",
    "n=30\n",
    "if(n%3==0 or n%5==0):\n",
    "    n=str(n)\n",
    "    print(list(n))\n",
    "     "
   ]
  },
  {
   "cell_type": "code",
   "execution_count": 12,
   "metadata": {},
   "outputs": [
    {
     "name": "stdout",
     "output_type": "stream",
     "text": [
      "15\n"
     ]
    }
   ],
   "source": [
    "#6)Write a program to check whether a given number is multiple of 5 or not\n",
    "n=15\n",
    "if(n%5==0):\n",
    "    print(n)\n"
   ]
  },
  {
   "cell_type": "code",
   "execution_count": 13,
   "metadata": {},
   "outputs": [
    {
     "name": "stdout",
     "output_type": "stream",
     "text": [
      "0\n"
     ]
    }
   ],
   "source": [
    "#7)WAP to check whether the given input is 0 or not if 0 prints 0\n",
    "n=0\n",
    "if(n==0):\n",
    "    print(n)"
   ]
  },
  {
   "cell_type": "code",
   "execution_count": 15,
   "metadata": {},
   "outputs": [
    {
     "name": "stdout",
     "output_type": "stream",
     "text": [
      "negative\n"
     ]
    }
   ],
   "source": [
    "#8)WAP to check whether a number is negative. If negative, print a message negative.\n",
    "n=-10\n",
    "if(n<=0):\n",
    "    print('negative')"
   ]
  },
  {
   "cell_type": "code",
   "execution_count": 20,
   "metadata": {},
   "outputs": [
    {
     "name": "stdout",
     "output_type": "stream",
     "text": [
      "[4]\n"
     ]
    }
   ],
   "source": [
    "#9)WAP to check whether a number is even or not. If even, store the value inside the list\n",
    "n=4\n",
    "l=[]\n",
    "if(n%2==0):\n",
    "    l.append(n)\n",
    "    print(l)\n",
    "\n"
   ]
  },
  {
   "cell_type": "code",
   "execution_count": 26,
   "metadata": {},
   "outputs": [
    {
     "name": "stdout",
     "output_type": "stream",
     "text": [
      "[7]\n",
      "(7,)\n"
     ]
    }
   ],
   "source": [
    "#10)WAP to check whether a number is odd or not. If odd, store the value inside the tuple.\n",
    "a=7\n",
    "l=[]\n",
    "if(a%2!=0):\n",
    "    l.append(a)\n",
    "    t=tuple(l)\n",
    "    print(l)\n",
    "    print(t)"
   ]
  },
  {
   "cell_type": "code",
   "execution_count": 29,
   "metadata": {},
   "outputs": [
    {
     "name": "stdout",
     "output_type": "stream",
     "text": [
      "256\n"
     ]
    }
   ],
   "source": [
    "#11)WAP to check if the given number is even or not. if it is yes, to print the power of 4 in a given number.\n",
    "n=4\n",
    "if(n%2==0):\n",
    "    print(n**4)\n",
    "\n"
   ]
  },
  {
   "cell_type": "code",
   "execution_count": 43,
   "metadata": {},
   "outputs": [
    {
     "name": "stdout",
     "output_type": "stream",
     "text": [
      "19\n"
     ]
    }
   ],
   "source": [
    "#12)WAP to take the input from the user as a number and check whether it is a number or not. if yes. take the number and add some value and print it.\n",
    "n=10\n",
    "if(n>9):\n",
    "    print(n+9)"
   ]
  },
  {
   "cell_type": "code",
   "execution_count": 44,
   "metadata": {},
   "outputs": [
    {
     "name": "stdout",
     "output_type": "stream",
     "text": [
      "helloworld\n"
     ]
    }
   ],
   "source": [
    "#13)WAP to display hello world if the number is greater than 1 and less than 5.\n",
    "n=4\n",
    "if(n>1 and n<5):\n",
    "    print('helloworld')"
   ]
  },
  {
   "cell_type": "code",
   "execution_count": 45,
   "metadata": {},
   "outputs": [
    {
     "name": "stdout",
     "output_type": "stream",
     "text": [
      "35\n"
     ]
    }
   ],
   "source": [
    "#14)WAP to check whether a given value is divisible by 5 and 7. If the value is divisible,to display the square of the values.\n",
    "n=35\n",
    "if(n%5==0 and n%7==0):\n",
    "    print(5*7)\n"
   ]
  },
  {
   "cell_type": "code",
   "execution_count": 46,
   "metadata": {},
   "outputs": [
    {
     "name": "stdout",
     "output_type": "stream",
     "text": [
      "37\n"
     ]
    }
   ],
   "source": [
    "#15)WAP to check whether the given value's last digit is greater than 5 or not.if greater, to perform the bitwise right shift operator (skipping value is 2)\n",
    "a=149\n",
    "b=a>>2\n",
    "if(a%10>5):\n",
    "    print(b)\n",
    "\n"
   ]
  },
  {
   "cell_type": "code",
   "execution_count": 54,
   "metadata": {},
   "outputs": [
    {
     "name": "stdout",
     "output_type": "stream",
     "text": [
      "18\n"
     ]
    }
   ],
   "source": [
    "#16)WAP to check whether a given value is divisible by 3 and less than 30. If the value is divisible,to display the square of the values.\n",
    "n=9\n",
    "if(n%3==0 and a>30):\n",
    "    print(n*2)\n"
   ]
  },
  {
   "cell_type": "code",
   "execution_count": 53,
   "metadata": {},
   "outputs": [
    {
     "name": "stdout",
     "output_type": "stream",
     "text": [
      "512\n"
     ]
    }
   ],
   "source": [
    "#17)WAP to check whether a given value is an even number and divisible by 4. If satisfied ,to display the cube of the values.\n",
    "n=8\n",
    "if(n%2==0 and n%4==0):\n",
    "    print(n**3)\n",
    "\n"
   ]
  },
  {
   "cell_type": "code",
   "execution_count": 58,
   "metadata": {},
   "outputs": [
    {
     "name": "stdout",
     "output_type": "stream",
     "text": [
      "[4]\n"
     ]
    }
   ],
   "source": [
    "#18)WAP to check whether a given value is even or not. If the even number stores the value inside the list.\n",
    "n=4\n",
    "l=[]\n",
    "if(n%2==0):\n",
    "    l.append(n)\n",
    "    print(l)\n",
    "    "
   ]
  },
  {
   "cell_type": "code",
   "execution_count": 63,
   "metadata": {},
   "outputs": [
    {
     "name": "stdout",
     "output_type": "stream",
     "text": [
      "2\n",
      "4\n"
     ]
    }
   ],
   "source": [
    "#19)WAP to check whether a given value is a negative or even number. If satisfied ,to display the last digit of the values.\n",
    "n=-62\n",
    "if(n<0 or n%2==0):\n",
    "    n=abs(n)\n",
    "    print(n%10)\n",
    "    #or\n",
    "    n=64\n",
    "    if(n<0 or n%2==0):\n",
    "        print(n%10)\n",
    "\n"
   ]
  },
  {
   "cell_type": "code",
   "execution_count": 64,
   "metadata": {},
   "outputs": [
    {
     "name": "stdout",
     "output_type": "stream",
     "text": [
      "-24\n"
     ]
    }
   ],
   "source": [
    "#20)WAP to check whether a given value is a negative or odd number and divisible by 4. If satisfied ,to display the cube of the values.\n",
    "n=-8\n",
    "if(n<0 or n%4==0):\n",
    "    print(n*3)\n"
   ]
  },
  {
   "cell_type": "code",
   "execution_count": 73,
   "metadata": {},
   "outputs": [
    {
     "name": "stdout",
     "output_type": "stream",
     "text": [
      "D\n"
     ]
    }
   ],
   "source": [
    "#21)WAP to check whether a given ascii value is divisible by 4 and even value. If satisfied, to display the ascii character.\n",
    "n=68\n",
    "if(n%4==0 and n%2==0):\n",
    "    print(chr(n))\n"
   ]
  },
  {
   "cell_type": "code",
   "execution_count": 76,
   "metadata": {},
   "outputs": [
    {
     "name": "stdout",
     "output_type": "stream",
     "text": [
      "x\n"
     ]
    }
   ],
   "source": [
    "#22.WAP to check whether a given value is present in between 45 to 125 and the number should be divisible by 4 and 5 and even value. If satisfied, to display the ascii character.\n",
    "a=120\n",
    "if(45<=a<125 and a%4==0 and a%5==0 and a%2==0):\n",
    "    print(chr(a))"
   ]
  },
  {
   "cell_type": "code",
   "execution_count": 77,
   "metadata": {},
   "outputs": [
    {
     "name": "stdout",
     "output_type": "stream",
     "text": [
      "400\n"
     ]
    }
   ],
   "source": [
    "#23.WAP to check whether a given value is present in between 25 to 100 and the number should be divisible by 4 and 5. If satisfied, to display multiplication of given value with 5.\n",
    "a=80\n",
    "if(25<=a<100 and a%4==0 and a%5==0):\n",
    "    print(a*5)"
   ]
  },
  {
   "cell_type": "code",
   "execution_count": 78,
   "metadata": {},
   "outputs": [
    {
     "name": "stdout",
     "output_type": "stream",
     "text": [
      "45\n"
     ]
    }
   ],
   "source": [
    "#24.WAP to check whether a given number is an integer and odd number. If the condition is satisfied, the integer is divisible by 5 and displays the result.\n",
    "a=9\n",
    "if(type(a) and a%2!=0):\n",
    "    print(a*5)"
   ]
  },
  {
   "cell_type": "code",
   "execution_count": 79,
   "metadata": {},
   "outputs": [
    {
     "name": "stdout",
     "output_type": "stream",
     "text": [
      "9\n"
     ]
    }
   ],
   "source": [
    "#25.WAP to check whether a given value is an integer or not. If integer, the given value is converted to string and displays the result.\n",
    "a=9\n",
    "if(type(a)):\n",
    "    print(str(a))"
   ]
  }
 ],
 "metadata": {
  "kernelspec": {
   "display_name": "Python 3",
   "language": "python",
   "name": "python3"
  },
  "language_info": {
   "codemirror_mode": {
    "name": "ipython",
    "version": 3
   },
   "file_extension": ".py",
   "mimetype": "text/x-python",
   "name": "python",
   "nbconvert_exporter": "python",
   "pygments_lexer": "ipython3",
   "version": "3.11.4"
  },
  "orig_nbformat": 4
 },
 "nbformat": 4,
 "nbformat_minor": 2
}
